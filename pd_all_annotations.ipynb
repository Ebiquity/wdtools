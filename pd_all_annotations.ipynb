{
 "cells": [
  {
   "cell_type": "markdown",
   "metadata": {},
   "source": [
    "### Extract some data about annotations from the 48 annotated Procure documents\n",
    "  * Popular properties and items IDs in the annotations\n",
    "  * How often the header cells were annotated with a **property** or **item** IDs\n",
    "  * How often data cells were annotated with **property** or **item** IDs\n",
    "  \n",
    "Conclusions:\n",
    "  * 93% of the 1st header column cell annotations were to **items**\n",
    "  * 27% of the remaining header column cell annotations were to **items**\n",
    "  * 99.9% of the data cell annotations were **items**\n",
    "  * We should focus on properties for linking header cells and use the annotations to identify target/good properties for this domain that"
   ]
  },
  {
   "cell_type": "code",
   "execution_count": 91,
   "metadata": {},
   "outputs": [],
   "source": [
    "import pandas as pd\n",
    "from collections import defaultdict\n",
    "import wd_search as wd\n",
    "import os.path\n",
    "from operator import itemgetter"
   ]
  },
  {
   "cell_type": "code",
   "execution_count": 92,
   "metadata": {},
   "outputs": [],
   "source": [
    "dir = \"/Users/finin/Projects/IARPA_GE/July_deliverable/Annotated_Table_Objects/Annotated_Tables\""
   ]
  },
  {
   "cell_type": "code",
   "execution_count": 93,
   "metadata": {},
   "outputs": [],
   "source": [
    "# dictionaries for counrs of annotation ids in header row or data rows\n",
    "header1_ids = defaultdict(int)\n",
    "header_rest_ids = defaultdict(int)\n",
    "header_ids = defaultdict(int)\n",
    "data_ids = defaultdict(int)\n",
    "\n",
    "total_columns = 0\n",
    "total_data_cells = 0"
   ]
  },
  {
   "cell_type": "code",
   "execution_count": 94,
   "metadata": {},
   "outputs": [],
   "source": [
    "# process each annotated document file\n",
    "doc_count = 0\n",
    "for file in os.scandir(dir):\n",
    "    doc_count += 1\n",
    "    # print(file.name)\n",
    "    df = pd.read_excel(file.path, header=None)\n",
    "    nrows, ncols = df.shape\n",
    "    total_columns += int(ncols/2)\n",
    "    total_data_cells += int(ncols/2) * (nrows - 1) \n",
    "    for row in range(nrows):\n",
    "        # do odd columns starting with 1\n",
    "        for col in range(1,ncols,2):\n",
    "            id = df.iat[row, col]\n",
    "            id = id.replace('procure_', '') if type(id)==str else id\n",
    "            if row == 0:\n",
    "                header_ids[id] += 1\n",
    "                if col == 1: # also track 1st column header\n",
    "                    header1_ids[id] +=1\n",
    "                else:\n",
    "                    header_rest_ids[id] +=1\n",
    "            else:\n",
    "                data_ids[id] += 1"
   ]
  },
  {
   "cell_type": "code",
   "execution_count": 95,
   "metadata": {},
   "outputs": [],
   "source": [
    "# Is an annotation id to a single Qid or Pid?\n",
    "def good_id(id):\n",
    "    return ( type(id) == str) and id and (id[0] in \"PQ\") and (' ' not in id) and (';' not in id) and (\"_\" not in id)\n",
    "\n",
    "def get_label(id):\n",
    "    return wd.get_label(id) if good_id(id) else '-----'"
   ]
  },
  {
   "cell_type": "markdown",
   "metadata": {},
   "source": [
    "### Compute some simple statistics"
   ]
  },
  {
   "cell_type": "code",
   "execution_count": 96,
   "metadata": {},
   "outputs": [
    {
     "name": "stdout",
     "output_type": "stream",
     "text": [
      "Processed 48 sheets with 302 columns and 3448 data cells \n",
      "Found 87 unique annotations in header rows; 346 in data rows\n",
      "For 1st header cell, 8.1% were properties; 91.9% items\n",
      "In other header cells 73.1% were properties; 26.9% items\n",
      "In data cells 0.1% were properties; 99.9% items\n"
     ]
    }
   ],
   "source": [
    "print(f\"Processed {doc_count} sheets with {total_columns} columns and {total_data_cells} data cells \")\n",
    "print(f\"Found {len(header_ids)} unique annotations in header rows; {len(data_ids)} in data rows\")\n",
    "\n",
    "# annotation meta-types (Q or P) in 1st header column\n",
    "header1_p = header1_q = good = 0\n",
    "for (id, n) in header1_ids.items():\n",
    "    if good_id(id):\n",
    "        good += n\n",
    "        if id[0]=='Q':\n",
    "            header1_q += n\n",
    "        else:\n",
    "            header1_p += n\n",
    "print(f\"For 1st header cell, {100*(header1_p/good):.1f}% were properties; {100*(header1_q/good):.1f}% items\")\n",
    "\n",
    "# annotation meta-types (Q or P) in remaining header columns\n",
    "header_rest_p = header_rest_q = good = 0\n",
    "for (id, n) in header_rest_ids.items():\n",
    "    if good_id(id):\n",
    "        good += n\n",
    "        if id[0]=='Q':\n",
    "            header_rest_q += n\n",
    "        else:\n",
    "            header_rest_p += n\n",
    "print(f\"In other header cells {100*(header_rest_p/good):.1f}% were properties; {100*(header_rest_q/good):.1f}% items\")\n",
    "\n",
    "\n",
    "# annotation meta-types (Q or P) in data cells\n",
    "data_p = data_q = data_good = 0\n",
    "for (id, n) in data_ids.items():\n",
    "    if good_id(id):\n",
    "        data_good += n\n",
    "        if id[0]=='Q':\n",
    "            data_q += n\n",
    "        else:\n",
    "            data_p += n\n",
    "print(f\"In data cells {100*(data_p/data_good):.1f}% were properties; {100*(data_q/data_good):.1f}% items\")\n"
   ]
  },
  {
   "cell_type": "markdown",
   "metadata": {},
   "source": [
    "### links found in header rows"
   ]
  },
  {
   "cell_type": "code",
   "execution_count": 97,
   "metadata": {},
   "outputs": [
    {
     "name": "stdout",
     "output_type": "stream",
     "text": [
      "70 \t NA \t -----\n",
      "17 \t P1603 \t number of cases\n",
      "16 \t P1120 \t number of deaths\n",
      "13 \t ref \t -----\n",
      "13 \t Q6256 \t country\n",
      "12 \t P3457 \t case fatality rate\n",
      "11 \t P7153 \t significant place\n",
      "9 \t Q105967696 \t vaccine type\n",
      "8 \t P585 \t point in time\n",
      "7 \t Q58702 \t mortality rate\n",
      "6 \t P1082 \t population\n",
      "5 \t P1193 \t prevalence\n",
      "5 \t id \t -----\n",
      "5 \t Q855769 \t strain\n",
      "4 \t P6099 \t clinical trial phase\n",
      "4 \t P_NA \t -----\n",
      "3 \t Q2221906 \t geographic location\n",
      "3 \t P3629 \t age at event\n",
      "3 \t Q18420531 \t viral strain\n",
      "3 \t P3098 \t ClinicalTrials.gov ID\n",
      "3 \t P2844 \t incidence\n",
      "3 \t P2047 \t duration\n",
      "3 \t P178 \t developer\n",
      "3 \t Q87719492 \t COVID-19 vaccine\n",
      "2 \t P21 \t sex or gender\n",
      "2 \t P1114 \t quantity\n",
      "2 \t Q89469904 \t coronavirus\n",
      "2 \t P923 \t medical examinations\n",
      "2 \t Q82794 \t geographic region\n",
      "2 \t Q2520821 \t length of stay\n",
      "2 \t P1545 \t series ordinal\n",
      "2 \t Q13410403 \t county of Colorado\n",
      "2 \t Q104778232 \t COVID-19 mortality\n",
      "2 \t P780 \t symptoms and signs\n",
      "1 \t nan \t -----\n",
      "1 \t P1724 \t \n",
      "1 \t Q11494956 \t source of infection\n",
      "1 \t Q5910902 \t Hot zone\n",
      "1 \t P1603; Q21128904 \t -----\n",
      "1 \t P7124 \t date of the first one\n",
      "1 \t P5822; Q5094647 \t -----\n",
      "1 \t Q939018 \t intubation\n",
      "1 \t P106 \t occupation\n",
      "1 \t Q7907952 \t vaccine efficacy\n",
      "1 \t Q105256838 \t vaccine safety\n",
      "1 \t Q161524 \t mask\n",
      "1 \t Q16935424 \t Bacterial Filtration Efficiency\n",
      "1 \t Q5457177 \t flame spread\n",
      "1 \t P366 \t use\n",
      "1 \t Q729 \t animal\n",
      "1 \t nan \t -----\n",
      "1 \t P2598 \t serial number\n",
      "1 \t P8010 \t number of recoveries\n",
      "1 \t P8011 \t number of medical tests\n",
      "1 \t P5822 \t admission rate\n",
      "1 \t Q170065 \t pathogen\n",
      "1 \t P1060 \t pathogen transmission process\n",
      "1 \t Q1656682 \t event\n",
      "1 \t P1110 \t attendance\n",
      "1 \t P828 \t has cause\n",
      "1 \t Q42014143 \t biomedical measurand type\n",
      "1 \t P5446 \t reference value\n",
      "1 \t Q29512471 \t cancer types\n",
      "1 \t P17 \t country\n",
      "1 \t Q42824069; \n",
      "Q42824440 \t -----\n",
      "1 \t Q42824827 \t phase III clinical trial\n",
      "1 \t Q515 \t city\n",
      "1 \t Q16784650 \t Hiding\n",
      "1 \t P636 \t route of administration\n",
      "1 \t Q8817226 \t Category:Statistical tests\n",
      "1 \t Q28051899 \t vaccine candidate\n",
      "1 \t Q10477823 \t \n",
      "1 \t Q11801904 \t PMCID\n",
      "1 \t Q70443487 \t sample size\n",
      "1 \t Q185836 \t age of a person\n",
      "1 \t Q131191 \t body mass index\n",
      "1 \t P7500 \t comorbidity\n",
      "1 \t P3488 \t minimal incubation period in humans\n",
      "1 \t P1542; Q12136 \t -----\n",
      "1 \t Q5119 \t capital\n",
      "1 \t Q12184 \t pandemic\n",
      "1 \t P3492 \t basic reproduction number\n",
      "1 \t Q106016 \t genotype\n",
      "1 \t P4333 \t GenBank assembly accession\n",
      "1 \t P6343 \t urban population\n",
      "1 \t P8363 \t study type\n",
      "1 \t P1132 \t number of participants\n"
     ]
    }
   ],
   "source": [
    "for (id, n) in sorted(list(header_ids.items()), key=itemgetter(1), reverse=True):\n",
    "    print(n, '\\t', id, '\\t', get_label(id))"
   ]
  },
  {
   "cell_type": "markdown",
   "metadata": {},
   "source": [
    "### Links found in first column of header row"
   ]
  },
  {
   "cell_type": "code",
   "execution_count": 98,
   "metadata": {},
   "outputs": [
    {
     "name": "stdout",
     "output_type": "stream",
     "text": [
      "10 \t Q6256 \t country\n",
      "5 \t id \t -----\n",
      "4 \t ref \t -----\n",
      "3 \t Q2221906 \t geographic location\n",
      "2 \t Q18420531 \t viral strain\n",
      "2 \t P585 \t point in time\n",
      "2 \t Q82794 \t geographic region\n",
      "2 \t Q87719492 \t COVID-19 vaccine\n",
      "2 \t Q855769 \t strain\n",
      "2 \t Q13410403 \t county of Colorado\n",
      "1 \t NA \t -----\n",
      "1 \t Q161524 \t mask\n",
      "1 \t P2598 \t serial number\n",
      "1 \t Q42014143 \t biomedical measurand type\n",
      "1 \t Q29512471 \t cancer types\n",
      "1 \t Q515 \t city\n",
      "1 \t Q8817226 \t Category:Statistical tests\n",
      "1 \t Q28051899 \t vaccine candidate\n",
      "1 \t Q11801904 \t PMCID\n",
      "1 \t Q89469904 \t coronavirus\n",
      "1 \t P1542; Q12136 \t -----\n",
      "1 \t Q5119 \t capital\n",
      "1 \t Q12184 \t pandemic\n",
      "1 \t Q105967696 \t vaccine type\n"
     ]
    }
   ],
   "source": [
    "for (id, n) in sorted(list(header1_ids.items()), key=itemgetter(1), reverse=True):\n",
    "    print(n, '\\t', id, '\\t', get_label(id))"
   ]
  },
  {
   "cell_type": "markdown",
   "metadata": {},
   "source": [
    "### links found in data rows more than twice"
   ]
  },
  {
   "cell_type": "code",
   "execution_count": 86,
   "metadata": {},
   "outputs": [
    {
     "name": "stdout",
     "output_type": "stream",
     "text": [
      "2449 \t lit \t -----\n",
      "111 \t ref \t -----\n",
      "45 \t Q82069695 \t SARS-CoV-2\n",
      "42 \t nan \t -----\n",
      "36 \t Q148 \t People's Republic of China\n",
      "32 \t NA \t -----\n",
      "31 \t Q30 \t United States of America\n",
      "18 \t Q145 \t United Kingdom\n",
      "18 \t Q85438966 \t SARS-CoV-1\n",
      "15 \t Q38 \t Italy\n",
      "14 \t Q4902157 \t Middle East respiratory syndrome coronavirus\n",
      "13 \t Q16654806 \t Middle East respiratory syndrome\n",
      "13 \t Q106336308 \t viral vector vaccine\n",
      "12 \t Q11746 \t Wuhan\n",
      "12 \t Q183 \t Germany\n",
      "12 \t Q85795487 \t RNA vaccine\n",
      "11 \t Q142 \t France\n",
      "11 \t Q159 \t Russia\n",
      "11 \t Q1436668;\n",
      "Q608510;\n",
      "Q7200267 \t -----\n",
      "11 \t Q432083 \t intramuscular injection\n",
      "11 \t Q104783588 \t vector-based vaccine\n",
      "10 \t Q851 \t Saudi Arabia\n",
      "10 \t Q96381373 \t Human-to-human transmission\n",
      "10 \t Q161393 \t influenza A virus subtype H1N1\n",
      "9 \t Q876852 \t summer camp\n",
      "7 \t Q3560939 \t inactivated vaccine\n",
      "7 \t Q29 \t Spain\n",
      "7 \t Q17 \t Japan\n",
      "7 \t Q99 \t California\n",
      "6 \t Q668 \t India\n",
      "6 \t id \t -----\n",
      "6 \t Q182672 \t zoonosis\n",
      "6 \t Q288514 \t Fair\n",
      "6 \t Q408 \t Australia\n",
      "6 \t Q794 \t Iran\n",
      "5 \t Q884 \t South Korea\n",
      "5 \t Q155 \t Brazil\n",
      "5 \t Q29520 \t China\n",
      "4 \t Q55 \t Netherlands\n",
      "4 \t Q144 \t dog\n",
      "4 \t Q146 \t house cat\n",
      "4 \t Q87775025 \t mRNA-1273 vaccine\n",
      "4 \t Q97154240 \t tozinameran\n",
      "4 \t Q12125 \t common cold\n",
      "4 \t Q1115038 \t runny nose\n",
      "3 \t Q1033 \t Nigeria\n",
      "3 \t Q117 \t Ghana\n",
      "3 \t Q258 \t South Africa\n",
      "3 \t Q114 \t Kenya\n",
      "3 \t Q1223 \t Washington\n",
      "3 \t Q85438970 \t \n",
      "3 \t Q31 \t Belgium\n",
      "3 \t Q33 \t Finland\n",
      "3 \t Q96 \t Mexico\n",
      "3 \t Q334 \t Singapore\n",
      "3 \t Q865 \t Taiwan\n",
      "3 \t Q1454 \t North Carolina\n",
      "3 \t Q95042269 \t AZD1222\n",
      "3 \t Q97153933 \t protein subunit vaccine\n",
      "3 \t Q97154233 \t CoronaVac\n",
      "3 \t Q96695265 \t Ad5-nCoV\n",
      "3 \t Q43 \t Turkey\n",
      "3 \t Q1204 \t Illinois\n",
      "2 \t  \t -----\n",
      "2 \t Q1049 \t Sudan\n",
      "2 \t Q657 \t Chad\n",
      "2 \t Q262 \t Algeria\n",
      "2 \t Q79 \t Egypt\n",
      "2 \t Q115 \t Ethiopia\n",
      "2 \t Q336641 \t emergency physician\n",
      "2 \t Q7302700 \t Recombinant DNA Vaccine\n",
      "2 \t Q183;Q55 \t -----\n",
      "2 \t Q39 \t Switzerland\n",
      "2 \t Q45 \t Portugal\n",
      "2 \t Q27 \t Ireland\n",
      "2 \t Q35 \t Denmark\n",
      "2 \t Q32 \t Luxembourg\n",
      "2 \t Q298 \t Chile\n",
      "2 \t Q15 \t Africa\n",
      "2 \t Q1041 \t Senegal\n",
      "2 \t Q974 \t Democratic Republic of the Congo\n",
      "2 \t Q1006 \t Guinea\n",
      "2 \t Q1000 \t Gabon\n",
      "2 \t Q29004679 \t Mumps rubulavirus\n",
      "2 \t Q1384 \t New York\n",
      "2 \t Q1400 \t Pennsylvania\n",
      "2 \t Q42824827 \t phase III clinical trial\n",
      "2 \t Q98655215 \t Ad26.COV2.S\n",
      "2 \t Q97154235 \t NVX-CoV2373\n",
      "2 \t Q98270627 \t Gam-COVID-Vac\n",
      "2 \t Q4314522 \t Gamaleya Research Institute of Epidemiology and Microbiology\n",
      "2 \t Q34 \t Sweden\n",
      "2 \t Q20 \t Norway\n",
      "2 \t Q16502 \t World\n",
      "2 \t Q192830 \t coefficient of determination\n",
      "2 \t Q16 \t Canada\n",
      "2 \t Q111774 \t El Paso County\n",
      "2 \t Q252 \t Indonesia\n",
      "2 \t Q12192 \t pneumonia\n",
      "2 \t Q578537 \t DNA vaccine\n"
     ]
    }
   ],
   "source": [
    "for (id, n) in sorted(list(data_ids.items()), key=itemgetter(1), reverse=True):\n",
    "    if n < 3:\n",
    "        break\n",
    "    print(n, '\\t', id, '\\t', get_label(id))"
   ]
  },
  {
   "cell_type": "code",
   "execution_count": 32,
   "metadata": {},
   "outputs": [
    {
     "data": {
      "text/plain": [
       "'fin'"
      ]
     },
     "execution_count": 32,
     "metadata": {},
     "output_type": "execute_result"
    }
   ],
   "source": [
    "\"fin\""
   ]
  }
 ],
 "metadata": {
  "kernelspec": {
   "display_name": "Python 3",
   "language": "python",
   "name": "python3"
  },
  "language_info": {
   "codemirror_mode": {
    "name": "ipython",
    "version": 3
   },
   "file_extension": ".py",
   "mimetype": "text/x-python",
   "name": "python",
   "nbconvert_exporter": "python",
   "pygments_lexer": "ipython3",
   "version": "3.8.1"
  }
 },
 "nbformat": 4,
 "nbformat_minor": 2
}
