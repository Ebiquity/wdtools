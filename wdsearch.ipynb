{
 "cells": [
  {
   "cell_type": "markdown",
   "metadata": {},
   "source": [
    "## Wikidata entity linking\n",
    "\n",
    "**wd_search.py** finds entities given a string and optional sets of types. It returns a ranked list of objects, one for each hit, with basic information from Wikidata and optionally DBpedia in one or more languages. An example of a call from the command line:\n",
    "\n",
    "  *python wd_search.py \"UMBC\" --types ORG --oktypes LOC FAC --badtypes 'sports team' --top 5 --context \"I studied computer science at UMBC\"*\n",
    "\n",
    "Types can be any wikidata type (e.g., Q5 for human) or a type name in **entity_types.py**.  The search prefers hits with a type in **--types** but will accept onese with a type in **--oktypes**.  If an entity has a type in **--badtypes**, it is rejected. The **--limit** parameter defines how many initial candidates are checked (up to 50) and **--top** says how many good hits are returned.\n",
    "\n",
    "Global parameters are set in the config file: **wd_search_config.yml**.\n",
    "\n",
    "**search()** is the basic function to call if you want a set of hits.  If you just one the one best hit, use **link()**"
   ]
  },
  {
   "cell_type": "code",
   "execution_count": 1,
   "metadata": {},
   "outputs": [
    {
     "name": "stdout",
     "output_type": "stream",
     "text": [
      "Loading config file wd_search_config.yml\n",
      "spacy_entity_linker\n"
     ]
    }
   ],
   "source": [
    "import wd_search as wds"
   ]
  },
  {
   "cell_type": "markdown",
   "metadata": {},
   "source": [
    "### the link function returns the one best link found"
   ]
  },
  {
   "cell_type": "code",
   "execution_count": 2,
   "metadata": {},
   "outputs": [
    {
     "data": {
      "text/plain": [
       "{'types': ['Q35120:entity', 'Q43229:organization'],\n",
       " 'id': 'Q735049',\n",
       " 'qid': 'Q735049',\n",
       " 'mention': 'UMBC',\n",
       " 'description': 'public university in Maryland',\n",
       " 'label': 'University of Maryland, Baltimore County',\n",
       " 'search_rank': 1,\n",
       " 'score': 0.0,\n",
       " 'scores': [0.0],\n",
       " 'score_rank': 1,\n",
       " 'rank': 1.0,\n",
       " 'wd_uri': 'https://www.wikidata.org/wiki/Q735049',\n",
       " 'immediate_types': ['Q3918:university',\n",
       "  'Q15936437:research university',\n",
       "  'Q23002039:public educational institution of the United States'],\n",
       " 'immediate_supertypes': [],\n",
       " 'sitelinks': 12,\n",
       " 'wikipedia': 'University_of_Maryland,_Baltimore_County',\n",
       " 'is_instance': True,\n",
       " 'is_concept': False,\n",
       " 'en': {'label': 'University of Maryland, Baltimore County',\n",
       "  'aliases': ['UMBC'],\n",
       "  'description': 'public university in Maryland',\n",
       "  'wikiname': 'University of Maryland, Baltimore County'}}"
      ]
     },
     "execution_count": 2,
     "metadata": {},
     "output_type": "execute_result"
    }
   ],
   "source": [
    "wds.link(\"UMBC\")"
   ]
  },
  {
   "cell_type": "markdown",
   "metadata": {},
   "source": [
    "### summary() is good for experimenting since it just returns the link's ID, Label, and description"
   ]
  },
  {
   "cell_type": "code",
   "execution_count": 6,
   "metadata": {},
   "outputs": [
    {
     "data": {
      "text/plain": [
       "('Q735049',\n",
       " 'University of Maryland, Baltimore County',\n",
       " 'public university in Maryland')"
      ]
     },
     "execution_count": 6,
     "metadata": {},
     "output_type": "execute_result"
    }
   ],
   "source": [
    "wds.summary(wds.link(\"UMBC\"))"
   ]
  },
  {
   "cell_type": "code",
   "execution_count": 7,
   "metadata": {},
   "outputs": [
    {
     "data": {
      "text/plain": [
       "('Q5513284', 'GE Global Research', 'organization')"
      ]
     },
     "execution_count": 7,
     "metadata": {},
     "output_type": "execute_result"
    }
   ],
   "source": [
    "wds.summary(wds.link(\"GE research\"))"
   ]
  },
  {
   "cell_type": "markdown",
   "metadata": {},
   "source": [
    "### If we don't specify a type, any entity can match the wrong. Search for Washington returns the state (a GPE)"
   ]
  },
  {
   "cell_type": "code",
   "execution_count": 19,
   "metadata": {},
   "outputs": [
    {
     "data": {
      "text/plain": [
       "('Q1223', 'Washington', 'state of the United States of America')"
      ]
     },
     "execution_count": 19,
     "metadata": {},
     "output_type": "execute_result"
    }
   ],
   "source": [
    "wds.summary(wds.link(\"Washington\"))"
   ]
  },
  {
   "cell_type": "markdown",
   "metadata": {},
   "source": []
  },
  {
   "cell_type": "code",
   "execution_count": 20,
   "metadata": {},
   "outputs": [
    {
     "data": {
      "text/plain": [
       "('Q23', 'George Washington', '1st president of the United States (1732-1799)')"
      ]
     },
     "execution_count": 20,
     "metadata": {},
     "output_type": "execute_result"
    }
   ],
   "source": [
    "wds.summary(wds.link(\"Washington\", target_types=['PERSON']))"
   ]
  },
  {
   "cell_type": "markdown",
   "metadata": {},
   "source": [
    "### The type is a strong signal about what we want, tho. NORP is an ontonotes type for \"Nationality, Organization, Religious, Political\"."
   ]
  },
  {
   "cell_type": "code",
   "execution_count": 37,
   "metadata": {},
   "outputs": [
    {
     "data": {
      "text/plain": [
       "('Q42740', 'Han Chinese people', 'ethnic group')"
      ]
     },
     "execution_count": 37,
     "metadata": {},
     "output_type": "execute_result"
    }
   ],
   "source": [
    "wds.summary(wds.link(\"Chinese\", target_types=\"NORP\"))"
   ]
  },
  {
   "cell_type": "markdown",
   "metadata": {},
   "source": [
    "### We get a different match if we use the ontonotes LANGUAGE type."
   ]
  },
  {
   "cell_type": "code",
   "execution_count": 36,
   "metadata": {},
   "outputs": [
    {
     "data": {
      "text/plain": [
       "('Q37041',\n",
       " 'Classical Chinese',\n",
       " 'language of the Sino-Tibetan language family (ISO 639-3: lzh)')"
      ]
     },
     "execution_count": 36,
     "metadata": {},
     "output_type": "execute_result"
    }
   ],
   "source": [
    "wds.summary(wds.link(\"Chinese\", target_types=\"LANGUAGE\"))"
   ]
  },
  {
   "cell_type": "markdown",
   "metadata": {},
   "source": [
    "### A simple, fast NLP pipline like Spacy can type named enties with ontonotes types.  Here's Donbas, a region in the Ukraine."
   ]
  },
  {
   "cell_type": "code",
   "execution_count": 35,
   "metadata": {},
   "outputs": [
    {
     "data": {
      "text/plain": [
       "('Q605714', 'Donbas', 'region in eastern Ukraine')"
      ]
     },
     "execution_count": 35,
     "metadata": {},
     "output_type": "execute_result"
    }
   ],
   "source": [
    "wds.summary(wds.link(\"Donbas\",target_types=\"GPE\"))"
   ]
  },
  {
   "cell_type": "markdown",
   "metadata": {},
   "source": [
    "### If we set dbpedia to True, here is the information we get from search for a GPE suing 'ukraine'"
   ]
  },
  {
   "cell_type": "code",
   "execution_count": 40,
   "metadata": {},
   "outputs": [
    {
     "data": {
      "text/plain": [
       "{'types': ['Q56061:administrative territorial entity',\n",
       "  'Q35120:entity',\n",
       "  'Q2221906:geographic location',\n",
       "  'Q43229:organization'],\n",
       " 'id': 'Q212',\n",
       " 'qid': 'Q212',\n",
       " 'mention': 'Ukraine',\n",
       " 'description': 'sovereign state in eastern Europe',\n",
       " 'label': 'Ukraine',\n",
       " 'search_rank': 1,\n",
       " 'score': 0.0,\n",
       " 'scores': [0.0],\n",
       " 'score_rank': 1,\n",
       " 'rank': 1.0,\n",
       " 'wd_uri': 'https://www.wikidata.org/wiki/Q212',\n",
       " 'immediate_types': ['Q3624078:sovereign state'],\n",
       " 'immediate_supertypes': [],\n",
       " 'sitelinks': 344,\n",
       " 'wikipedia': 'Ukraine',\n",
       " 'is_instance': True,\n",
       " 'is_concept': False,\n",
       " 'en': {'label': 'Ukraine',\n",
       "  'aliases': ['UKR', 'UA', 'Ukraina', 'ua', '🇺🇦', 'Ukr.', 'Ukrainia'],\n",
       "  'description': 'sovereign state in eastern Europe',\n",
       "  'wikiname': 'Ukraine',\n",
       "  'abstract': \"Ukraine (Ukrainian: Україна, romanized: Ukraina, pronounced [ʊkrɐˈjinɐ] ) is a country in Eastern Europe. It covers an area of 603,628 km2 (233,062 sq mi), and is the second-largest country in Europe after Russia, which it borders to the east and north-east. Ukraine also shares borders with Belarus to the north; Poland, Slovakia, and Hungary to the west; Romania and Moldova to the south; and has a coastline along the Sea of Azov and the Black Sea. With a population of about 41.4 million, it is the eighth-most populous country in Europe. The country's capital and largest city is Kyiv. The territory of modern Ukraine has been inhabited since 32,000 BC. During the Middle Ages, the area was a key centre of East Slavic culture, with the powerful state of Kievan Rus' forming the basis of Ukrainian identity. Following its fragmentation into several principalities in the 13th century and the devastation created by the Mongol invasion, the territorial unity collapsed and the area was contested, ruled, and divided by a variety of powers, including the Polish–Lithuanian Commonwealth, Austria-Hungary, the Ottoman Empire, and Russia. A Cossack republic emerged and prospered during the 17th and 18th centuries, but its territory was eventually split between Poland and the Russian Empire. In the aftermath of the Russian Revolution, a Ukrainian national movement for self-determination emerged, and the internationally recognized Ukrainian People's Republic was declared on 23 June 1917. After World War II, the western part of Ukraine merged into the Ukrainian Soviet Socialist Republic, and the whole country became a part of the Soviet Union. Ukraine gained its independence in 1991, following the dissolution of the Soviet Union. Following its independence, Ukraine declared itself a neutral state; it formed a limited military partnership with Russia and other CIS countries while also establishing a partnership with NATO in 1994. In 2013, after the government of President Viktor Yanukovych had decided to suspend the Ukraine–European Union Association Agreement and seek closer economic ties with Russia, a several-months-long wave of demonstrations and protests known as the Euromaidan began, which later escalated into the 2014 Ukrainian revolution that led to the overthrow of Yanukovych and the establishment of a new government. These events formed the background for the annexation of Crimea by Russia in March 2014 and the War in Donbas in April 2014. On 1 January 2016, Ukraine applied for the economic component of the Deep and Comprehensive Free Trade Area with the European Union. Ukraine is a developing country ranking 74th in the Human Development Index. It is the poorest country in Europe alongside Moldova, suffering from a very high poverty rate as well as severe corruption. However, because of its extensive fertile farmlands, Ukraine is one of the largest grain exporters in the world. It also maintains the third-largest military in Europe after Russia and France. Ukraine is a unitary republic under a semi-presidential system with separate powers: legislative, executive, and judicial branches. The country is a member of the United Nations, the Council of Europe, the OSCE, the GUAM organization and is one of the founding states of the CIS, even though it never became a member of the organization.\"},\n",
       " 'DBpedia_types': ['dbo:Place',\n",
       "  'dbo:Location',\n",
       "  'dbo:MusicalArtist',\n",
       "  'dbo:Artist',\n",
       "  'dbo:Person',\n",
       "  'dbo:Agent',\n",
       "  'dbo:Country',\n",
       "  'dbo:PopulatedPlace']}"
      ]
     },
     "execution_count": 40,
     "metadata": {},
     "output_type": "execute_result"
    }
   ],
   "source": [
    "wds.link(\"Ukraine\", target_types=\"GPE\", dbpedia=1)"
   ]
  },
  {
   "cell_type": "markdown",
   "metadata": {},
   "source": [
    "### This is a very simple approach that can't do much if there are many good candidates with the right type.\n",
    "\n",
    "Try looking for a PER named **Michael Jordon**"
   ]
  },
  {
   "cell_type": "code",
   "execution_count": 45,
   "metadata": {},
   "outputs": [
    {
     "data": {
      "text/plain": [
       "[('Q41421', 'Michael Jordan', 'American basketball player and businessman'),\n",
       " ('Q3308285',\n",
       "  'Michael I. Jordan',\n",
       "  'American computer scientist, University of California, Berkeley'),\n",
       " ('Q1928047',\n",
       "  'Michael Jordan',\n",
       "  'German draughtsperson, artist and comics artist'),\n",
       " ('Q27069141', 'Michael Jordan', 'American football cornerback'),\n",
       " ('Q6831715', 'Michael Jordan', 'Irish politician'),\n",
       " ('Q65029442', 'Michael Jordan', 'American football offensive lineman'),\n",
       " ('Q6831719', 'Michael Jordan', 'British mycologist'),\n",
       " ('Q6831716', 'Michael Jordan', 'English footballer (born 1984)'),\n",
       " ('Q95244944', 'Michael Jordan', ''),\n",
       " ('Q100983908',\n",
       "  'Michael Jordan',\n",
       "  'college basketball player (1998–1999) Detroit Mercy'),\n",
       " ('Q100983906',\n",
       "  'Michael Jordan',\n",
       "  'college basketball player (2001–2001) New Mexico'),\n",
       " ('Q97521844', 'Michael Jordan', 'researcher'),\n",
       " ('Q6835972', 'Michaël Jordan Nkololo', 'Congolese footballer'),\n",
       " ('Q16267175', 'Michael Jordan in Flight', '1993 video game')]"
      ]
     },
     "execution_count": 45,
     "metadata": {},
     "output_type": "execute_result"
    }
   ],
   "source": [
    "wds.summary(wds.search(\"Michael Jordan\", target_types='PER', top=20))"
   ]
  },
  {
   "cell_type": "markdown",
   "metadata": {},
   "source": [
    "### One way to help is to provide a context string, which might be the mention's sentence"
   ]
  },
  {
   "cell_type": "code",
   "execution_count": 46,
   "metadata": {},
   "outputs": [
    {
     "data": {
      "text/plain": [
       "('Q3308285',\n",
       " 'Michael I. Jordan',\n",
       " 'American computer scientist, University of California, Berkeley')"
      ]
     },
     "execution_count": 46,
     "metadata": {},
     "output_type": "execute_result"
    }
   ],
   "source": [
    "wds.summary(wds.link(\"Michael Jordan\", target_types='PER', context=\"He has made many contributions ot mavhone learning\"))"
   ]
  },
  {
   "cell_type": "markdown",
   "metadata": {},
   "source": [
    "### You can also search for a concept, not just named entities."
   ]
  },
  {
   "cell_type": "code",
   "execution_count": 49,
   "metadata": {},
   "outputs": [
    {
     "data": {
      "text/plain": [
       "('Q82642',\n",
       " 'blood pressure',\n",
       " 'pressure exerted by circulating blood upon the walls of blood vessels')"
      ]
     },
     "execution_count": 49,
     "metadata": {},
     "output_type": "execute_result"
    }
   ],
   "source": [
    "wds.summary(wds.link(\"blood pressure\", category=\"concept\"))"
   ]
  },
  {
   "cell_type": "code",
   "execution_count": 2,
   "metadata": {},
   "outputs": [
    {
     "data": {
      "text/plain": [
       "('Q422248',\n",
       " 'monoclonal antibody',\n",
       " 'monospecific antibody that is made by identical immune cells that are all clones of a unique parent cell')"
      ]
     },
     "execution_count": 2,
     "metadata": {},
     "output_type": "execute_result"
    }
   ],
   "source": [
    "wds.summary(wds.link(\"monoclonal antibodies\", target_types=\"CHEMICAL COMPOUND\"))"
   ]
  },
  {
   "cell_type": "markdown",
   "metadata": {},
   "source": [
    "fin"
   ]
  }
 ],
 "metadata": {
  "kernelspec": {
   "display_name": "Python 3",
   "language": "python",
   "name": "python3"
  },
  "language_info": {
   "codemirror_mode": {
    "name": "ipython",
    "version": 3
   },
   "file_extension": ".py",
   "mimetype": "text/x-python",
   "name": "python",
   "nbconvert_exporter": "python",
   "pygments_lexer": "ipython3",
   "version": "3.8.1"
  }
 },
 "nbformat": 4,
 "nbformat_minor": 2
}
