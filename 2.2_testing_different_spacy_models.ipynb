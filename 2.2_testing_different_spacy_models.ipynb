{
 "cells": [
  {
   "cell_type": "markdown",
   "metadata": {},
   "source": [
    "## Comparing Spacy's models for NER\n",
    "\n",
    "[Spacy](https://spacy.io/) is an open-source NLP library. Its components are not SOTA but they are robust, easy to use and fast.\n",
    "\n",
    "We'll demo how to use it for simplr tasks and then try a pretrained entity linker that links to wikidata items. The [spacy-entity-linker](https://pypi.org/project/spacy-entity-linker/) is not great, but worth looking at.\n",
    "\n",
    "You may need to do the following:\n",
    " * pip install spacy\n",
    " * python -m spacy download en\n",
    " * python -m spacy download en_core_web_md"
   ]
  },
  {
   "cell_type": "code",
   "execution_count": 13,
   "metadata": {},
   "outputs": [],
   "source": [
    "import spacy\n",
    "from spacy import displacy\n",
    "from collections import defaultdict"
   ]
  },
  {
   "cell_type": "markdown",
   "metadata": {},
   "source": [
    "### Load one of Spacy's language models. This is a medium sized one for English"
   ]
  },
  {
   "cell_type": "code",
   "execution_count": 33,
   "metadata": {},
   "outputs": [],
   "source": [
    "model1 = \"en_core_web_md\"\n",
    "model2 = \"en_core_web_lg\"\n",
    "model3 = \"en_core_web_trf\"\n",
    "\n",
    "nlp1 = spacy.load(model1)\n",
    "nlp3 = spacy.load(model2)\n",
    "nlp3 = spacy.load(model3)"
   ]
  },
  {
   "cell_type": "code",
   "execution_count": 39,
   "metadata": {},
   "outputs": [],
   "source": [
    "def ent_summary(doc, model):\n",
    "    edict = defaultdict(int)\n",
    "    for ent in [(X.text, X.label_) for X in doc.ents]:\n",
    "        if ent[1] not in ['QUANTITY','DATE','ORDINAL','CARDINAL', 'MONEY', 'PERCENT', 'TIME']:\n",
    "            edict[ent] += 1\n",
    "    print(f\"Model {model} found {len(edict)} unique entities from {len(doc.ents)} mentions\")\n",
    "    for ent, number in sorted(edict.items()):\n",
    "        print(ent, number)"
   ]
  },
  {
   "cell_type": "markdown",
   "metadata": {},
   "source": [
    "### Load text from a topic report and process with the two models"
   ]
  },
  {
   "cell_type": "code",
   "execution_count": 55,
   "metadata": {},
   "outputs": [],
   "source": [
    "# report_number = \"1014\"\n",
    "# report_number = \"1023\"\n",
    "report_number = \"1024\"\n",
    "text = open(f\"report_data/{report_number}_report.txt\").read()\n",
    "doc1 = nlp1(text)\n",
    "doc2 = nlp2(text)\n",
    "doc3 = nlp3(text)"
   ]
  },
  {
   "cell_type": "code",
   "execution_count": 56,
   "metadata": {},
   "outputs": [
    {
     "name": "stdout",
     "output_type": "stream",
     "text": [
      "Model en_core_web_md found 57 unique entities from 139 mentions\n",
      "('Adam Zemke', 'PERSON') 1\n",
      "('Board of Directors', 'ORG') 1\n",
      "('Board of Trustees', 'ORG') 1\n",
      "('Congress', 'ORG') 1\n",
      "('Dianne Feinstein', 'PERSON') 1\n",
      "('Dominique Moceanu', 'PERSON') 1\n",
      "('ESPN', 'ORG') 1\n",
      "('FBI', 'ORG') 1\n",
      "('Feinstein', 'PERSON') 1\n",
      "('House', 'ORG') 3\n",
      "('Jamie Dantzscher', 'PERSON') 1\n",
      "('Jessica Howard', 'PERSON') 1\n",
      "('Juliet Macur', 'PERSON') 1\n",
      "('Karolyi Ranch', 'GPE') 1\n",
      "('Kathie Klages', 'PERSON') 1\n",
      "(\"Kellogg's\", 'ORG') 1\n",
      "('Klages', 'PERSON') 2\n",
      "('Larry Nassar', 'PERSON') 1\n",
      "('Lou Anna Simon', 'PERSON') 1\n",
      "('MSU', 'ORG') 4\n",
      "('Mark Dantonio', 'PERSON') 1\n",
      "('Mark Hollis', 'PERSON') 1\n",
      "('Mattie Larson', 'PERSON') 1\n",
      "('Michigan State', 'ORG') 1\n",
      "('Michigan State University', 'ORG') 3\n",
      "('Nassar', 'ORG') 19\n",
      "('Olympian Aly Raisman', 'PERSON') 1\n",
      "('Outside the Lines', 'ORG') 1\n",
      "('Paul Ryan', 'PERSON') 1\n",
      "('Penny', 'PERSON') 1\n",
      "('Procter & Gamble', 'ORG') 1\n",
      "('Rachael Denhollander', 'PERSON') 1\n",
      "('Rick Adams', 'PERSON') 1\n",
      "('SafeSport', 'ORG') 1\n",
      "('Senate', 'ORG') 1\n",
      "('Senate Judiciary Committee', 'ORG') 1\n",
      "('Simon', 'PERSON') 1\n",
      "('Spartan', 'NORP') 1\n",
      "('Steve Penny', 'PERSON') 1\n",
      "('The Hershey Company', 'ORG') 1\n",
      "('The Indianapolis Star', 'ORG') 2\n",
      "('The New York Times', 'ORG') 1\n",
      "('USA Gymnastics', 'ORG') 11\n",
      "('USA Gymnastics Board of Directors', 'ORG') 1\n",
      "(\"USA Gymnastics'\", 'ORG') 1\n",
      "('USA Swimming', 'ORG') 1\n",
      "('USA Taekwondo', 'ORG') 1\n",
      "('USOC', 'ORG') 3\n",
      "('United States', 'GPE') 1\n",
      "('United States Senators', 'ORG') 1\n",
      "('the House of Representatives', 'ORG') 1\n",
      "('the Karolyi Ranch', 'FAC') 1\n",
      "('the Michigan House of Representatives', 'ORG') 1\n",
      "('the National Collegiate Athletic Association', 'ORG') 1\n",
      "('the US Center', 'ORG') 1\n",
      "('the USA Gymnastics Board of Directors', 'ORG') 1\n",
      "('the United States Olympic Committee', 'GPE') 2\n"
     ]
    }
   ],
   "source": [
    "ent_summary(doc1, model1)"
   ]
  },
  {
   "cell_type": "code",
   "execution_count": 57,
   "metadata": {},
   "outputs": [
    {
     "name": "stdout",
     "output_type": "stream",
     "text": [
      "Model en_core_web_lg found 58 unique entities from 143 mentions\n",
      "('AT&T.', 'ORG') 1\n",
      "('Adam Zemke', 'PERSON') 1\n",
      "('Aly Raisman', 'PERSON') 1\n",
      "('Board of Directors', 'ORG') 1\n",
      "('Board of Trustees', 'ORG') 1\n",
      "('Congress', 'ORG') 1\n",
      "('Dianne Feinstein', 'PERSON') 1\n",
      "('Dominique Moceanu', 'PERSON') 1\n",
      "('ESPN', 'ORG') 1\n",
      "('FBI', 'ORG') 1\n",
      "('Feinstein', 'PERSON') 1\n",
      "('House', 'ORG') 3\n",
      "('Jamie Dantzscher', 'PERSON') 1\n",
      "('Jessica Howard', 'PERSON') 1\n",
      "('Juliet Macur', 'PERSON') 1\n",
      "('Karolyi Ranch', 'ORG') 1\n",
      "('Kathie Klages', 'PERSON') 1\n",
      "(\"Kellogg's\", 'ORG') 1\n",
      "('Klages', 'PERSON') 2\n",
      "('Larry Nassar', 'PERSON') 1\n",
      "('Lou Anna Simon', 'PERSON') 1\n",
      "('MSU', 'ORG') 4\n",
      "('Mark Dantonio', 'PERSON') 1\n",
      "('Mark Hollis', 'PERSON') 1\n",
      "('Mattie Larson', 'PERSON') 1\n",
      "('Michigan State', 'ORG') 1\n",
      "('Michigan State University', 'ORG') 3\n",
      "('NGBs', 'ORG') 1\n",
      "('Nassar', 'PERSON') 19\n",
      "('Outside the Lines', 'WORK_OF_ART') 1\n",
      "('Paul Ryan', 'PERSON') 1\n",
      "('Penny', 'PERSON') 1\n",
      "('Procter & Gamble', 'ORG') 1\n",
      "('Rachael Denhollander', 'PERSON') 1\n",
      "('Rick Adams', 'PERSON') 1\n",
      "('Senate', 'ORG') 2\n",
      "('Senate Judiciary Committee', 'ORG') 1\n",
      "('Simon', 'PERSON') 1\n",
      "('Spartan', 'ORG') 1\n",
      "('Steve Penny', 'PERSON') 1\n",
      "('The Hershey Company', 'ORG') 1\n",
      "('The Indianapolis Star', 'ORG') 2\n",
      "('The New York Times', 'ORG') 1\n",
      "('USA Gymnastics', 'ORG') 11\n",
      "('USA Gymnastics Board of Directors', 'ORG') 1\n",
      "(\"USA Gymnastics'\", 'ORG') 1\n",
      "('USA Swimming', 'ORG') 1\n",
      "('USA Taekwondo', 'ORG') 1\n",
      "('USOC', 'ORG') 4\n",
      "('Under Armour', 'ORG') 1\n",
      "('United States', 'GPE') 2\n",
      "('the House of Representatives', 'ORG') 1\n",
      "('the Karolyi Ranch', 'ORG') 1\n",
      "('the Michigan House of Representatives', 'ORG') 1\n",
      "('the National Collegiate Athletic Association', 'ORG') 1\n",
      "('the US Center for SafeSport', 'ORG') 1\n",
      "('the USA Gymnastics Board of Directors', 'ORG') 1\n",
      "('the United States Olympic Committee', 'ORG') 2\n"
     ]
    }
   ],
   "source": [
    "ent_summary(doc2, model2)"
   ]
  },
  {
   "cell_type": "code",
   "execution_count": 58,
   "metadata": {},
   "outputs": [
    {
     "name": "stdout",
     "output_type": "stream",
     "text": [
      "Model en_core_web_trf found 58 unique entities from 143 mentions\n",
      "('AT&T.', 'ORG') 1\n",
      "('Adam Zemke', 'PERSON') 1\n",
      "('Aly Raisman', 'PERSON') 1\n",
      "('Board of Directors', 'ORG') 1\n",
      "('Board of Trustees', 'ORG') 1\n",
      "('Congress', 'ORG') 1\n",
      "('Dianne Feinstein', 'PERSON') 1\n",
      "('Dominique Moceanu', 'PERSON') 1\n",
      "('ESPN', 'ORG') 1\n",
      "('FBI', 'ORG') 1\n",
      "('Feinstein', 'PERSON') 1\n",
      "('House', 'ORG') 3\n",
      "('Jamie Dantzscher', 'PERSON') 1\n",
      "('Jessica Howard', 'PERSON') 1\n",
      "('Juliet Macur', 'PERSON') 1\n",
      "('Karolyi Ranch', 'ORG') 1\n",
      "('Kathie Klages', 'PERSON') 1\n",
      "(\"Kellogg's\", 'ORG') 1\n",
      "('Klages', 'PERSON') 2\n",
      "('Larry Nassar', 'PERSON') 1\n",
      "('Lou Anna Simon', 'PERSON') 1\n",
      "('MSU', 'ORG') 4\n",
      "('Mark Dantonio', 'PERSON') 1\n",
      "('Mark Hollis', 'PERSON') 1\n",
      "('Mattie Larson', 'PERSON') 1\n",
      "('Michigan State', 'ORG') 1\n",
      "('Michigan State University', 'ORG') 3\n",
      "('NGBs', 'ORG') 1\n",
      "('Nassar', 'PERSON') 19\n",
      "('Outside the Lines', 'WORK_OF_ART') 1\n",
      "('Paul Ryan', 'PERSON') 1\n",
      "('Penny', 'PERSON') 1\n",
      "('Procter & Gamble', 'ORG') 1\n",
      "('Rachael Denhollander', 'PERSON') 1\n",
      "('Rick Adams', 'PERSON') 1\n",
      "('Senate', 'ORG') 2\n",
      "('Senate Judiciary Committee', 'ORG') 1\n",
      "('Simon', 'PERSON') 1\n",
      "('Spartan', 'ORG') 1\n",
      "('Steve Penny', 'PERSON') 1\n",
      "('The Hershey Company', 'ORG') 1\n",
      "('The Indianapolis Star', 'ORG') 2\n",
      "('The New York Times', 'ORG') 1\n",
      "('USA Gymnastics', 'ORG') 11\n",
      "('USA Gymnastics Board of Directors', 'ORG') 1\n",
      "(\"USA Gymnastics'\", 'ORG') 1\n",
      "('USA Swimming', 'ORG') 1\n",
      "('USA Taekwondo', 'ORG') 1\n",
      "('USOC', 'ORG') 4\n",
      "('Under Armour', 'ORG') 1\n",
      "('United States', 'GPE') 2\n",
      "('the House of Representatives', 'ORG') 1\n",
      "('the Karolyi Ranch', 'ORG') 1\n",
      "('the Michigan House of Representatives', 'ORG') 1\n",
      "('the National Collegiate Athletic Association', 'ORG') 1\n",
      "('the US Center for SafeSport', 'ORG') 1\n",
      "('the USA Gymnastics Board of Directors', 'ORG') 1\n",
      "('the United States Olympic Committee', 'ORG') 2\n"
     ]
    }
   ],
   "source": [
    "ent_summary(doc3, model3)"
   ]
  },
  {
   "cell_type": "code",
   "execution_count": null,
   "metadata": {},
   "outputs": [],
   "source": []
  },
  {
   "cell_type": "code",
   "execution_count": null,
   "metadata": {},
   "outputs": [],
   "source": []
  }
 ],
 "metadata": {
  "kernelspec": {
   "display_name": "Python 3",
   "language": "python",
   "name": "python3"
  },
  "language_info": {
   "codemirror_mode": {
    "name": "ipython",
    "version": 3
   },
   "file_extension": ".py",
   "mimetype": "text/x-python",
   "name": "python",
   "nbconvert_exporter": "python",
   "pygments_lexer": "ipython3",
   "version": "3.8.1"
  }
 },
 "nbformat": 4,
 "nbformat_minor": 2
}
