{
 "cells": [
  {
   "cell_type": "markdown",
   "metadata": {},
   "source": [
    "## Finding and linking nominal compounds and posessives in scale reports"
   ]
  },
  {
   "cell_type": "code",
   "execution_count": 1,
   "metadata": {},
   "outputs": [],
   "source": [
    "import spacy\n",
    "from spacy import displacy\n",
    "from spacy.matcher import Matcher\n",
    "import en_core_web_md  #medium en pipeline\n",
    "\n",
    "import wd_search as wds\n",
    "\n",
    "from collections import Counter\n",
    "import textwrap\n",
    "import time\n",
    "from importlib import reload # while developing"
   ]
  },
  {
   "cell_type": "markdown",
   "metadata": {},
   "source": [
    "### Load one of Spacy's language models. This is a medium sized one for English"
   ]
  },
  {
   "cell_type": "code",
   "execution_count": 5,
   "metadata": {},
   "outputs": [
    {
     "name": "stdout",
     "output_type": "stream",
     "text": [
      "['tok2vec', 'tagger', 'parser', 'ner', 'attribute_ruler', 'lemmatizer']\n"
     ]
    }
   ],
   "source": [
    "nlp = spacy.load(\"en_core_web_md\")\n",
    "print(nlp.pipe_names)"
   ]
  },
  {
   "cell_type": "markdown",
   "metadata": {},
   "source": [
    "### Input a short document and process it "
   ]
  },
  {
   "cell_type": "code",
   "execution_count": 3,
   "metadata": {},
   "outputs": [],
   "source": [
    "topic_number = \"1001\"\n",
    "text = open(file=f'report_data/{topic_number}_report.txt', mode='r', encoding='utf-8').read()\n",
    "doc = nlp(text)"
   ]
  },
  {
   "cell_type": "markdown",
   "metadata": {},
   "source": [
    "### Display the text marking its entities and their types.  The default types are the 18 types from [Ontonotes](https://catalog.ldc.upenn.edu/docs/LDC2013T19/OntoNotes-Release-5.0.pdf)"
   ]
  },
  {
   "cell_type": "code",
   "execution_count": 4,
   "metadata": {},
   "outputs": [
    {
     "data": {
      "text/html": [
       "<span class=\"tex2jax_ignore\"><div class=\"entities\" style=\"line-height: 2.5; direction: ltr\">Even though older communication methods like radio are still used, the revolution in communication technology over \n",
       "<mark class=\"entity\" style=\"background: #bfe1d9; padding: 0.45em 0.6em; margin: 0 0.25em; line-height: 1; border-radius: 0.35em;\">\n",
       "    the past 10–15 years\n",
       "    <span style=\"font-size: 0.8em; font-weight: bold; line-height: 1; border-radius: 0.35em; vertical-align: middle; margin-left: 0.5rem\">DATE</span>\n",
       "</mark>\n",
       " has dramatically changed how terrorist organizations communicate. E-mails, fax transmissions, websites, cell phones, and satellite telephones have made it possible for organizations to contemplate a global strategy. However, too great a reliance on this new technology leaves organizations vulnerable to sophisticated monitoring of communication and triangulation of its source. When \n",
       "<mark class=\"entity\" style=\"background: #aa9cfc; padding: 0.45em 0.6em; margin: 0 0.25em; line-height: 1; border-radius: 0.35em;\">\n",
       "    Osama bin Laden\n",
       "    <span style=\"font-size: 0.8em; font-weight: bold; line-height: 1; border-radius: 0.35em; vertical-align: middle; margin-left: 0.5rem\">PERSON</span>\n",
       "</mark>\n",
       " found out that his satellite phone conversations were being intercepted, he ceased using this method to communicate.</div></span>"
      ],
      "text/plain": [
       "<IPython.core.display.HTML object>"
      ]
     },
     "metadata": {},
     "output_type": "display_data"
    }
   ],
   "source": [
    "if doc.ents:\n",
    "    displacy.render(doc, style=\"ent\")\n",
    "else:\n",
    "    print(\"No entities were found in the document\\n\")\n",
    "    print(textwrap.fill(doc.text, width=80))"
   ]
  },
  {
   "cell_type": "markdown",
   "metadata": {},
   "source": [
    "### Add patterns to find nominal compounds and posessives"
   ]
  },
  {
   "cell_type": "code",
   "execution_count": null,
   "metadata": {},
   "outputs": [],
   "source": [
    "# Create a Matcher and provide model vocabulary; assign result under the variable 'matcher'\n",
    "matcher = Matcher(vocab=nlp.vocab)\n",
    "# Define a list with nested dictionaries that contains the pattern to be matched\n",
    "nominal_compound = [{'POS': 'NOUN', 'OP': '+'}, {'POS': 'NOUN'}]\n",
    "adj_noun = [{'POS': 'ADJ'}, {'POS': 'NOUN'}] # might not be usefull\n",
    "noun_part_noun = [{'POS': 'NOUN'}, {'POS' :'PART'}, {'POS': 'NOUN'}]\n",
    "# Add the pattern to the matcher under the name 'pronoun+verb'\n",
    "#matcher.add(\"possible concepts\", patterns=[nominal_compound, noun_part_noun])\n",
    "matcher.add(\"possible concepts\", patterns=[nominal_compound])"
   ]
  },
  {
   "cell_type": "markdown",
   "metadata": {},
   "source": [
    "### Nominals found in the report"
   ]
  },
  {
   "cell_type": "code",
   "execution_count": null,
   "metadata": {},
   "outputs": [],
   "source": [
    "nominals = matcher(doc, as_spans=True)\n",
    "nfound = len(nominals)\n",
    "if nominals:\n",
    "    print(f\"Found {nfound} nominals: {nominals}\")\n",
    "else:\n",
    "    print(\"No nominals were found in the document\")\n",
    "#for n in nominals: print(n, n.end-n.start, [x for x in n.noun_chunks])"
   ]
  },
  {
   "cell_type": "markdown",
   "metadata": {},
   "source": [
    "### Named entites found in the report"
   ]
  },
  {
   "cell_type": "code",
   "execution_count": null,
   "metadata": {},
   "outputs": [],
   "source": [
    "ent_set = set()\n",
    "for e in doc.ents:\n",
    "    if e.label_ not in ['QUANTITY','DATE','ORDINAL','CARDINAL', 'MONEY', 'PERCENT']:\n",
    "        ent_set.add((e.text, e.label_))\n",
    "efound = len(ent_set)        \n",
    "print(f\"Found {efound} entities: {ent_set}\")"
   ]
  },
  {
   "cell_type": "markdown",
   "metadata": {},
   "source": [
    "### Link the entities and nominals found in the report"
   ]
  },
  {
   "cell_type": "code",
   "execution_count": null,
   "metadata": {},
   "outputs": [],
   "source": [
    "#number of successful entities and nominals linked and lists of the failures\n",
    "elinked = nlinked = 0\n",
    "efailed = []\n",
    "nfailed = []\n",
    "start = time.time()\n",
    "for e in ent_set:\n",
    "    etext, etype = e\n",
    "    wd = wds.link(etext, types=[etype], category='instance')\n",
    "    if wd:\n",
    "        print(f\"{e} ==> {wds.summary(wd)}\\n\")\n",
    "        elinked += 1\n",
    "    else:\n",
    "        efailed.append(e)\n",
    "        \n",
    "for nc in nominals:\n",
    "    wd = wds.link(nc.text, category='concept')\n",
    "    if wd:\n",
    "        print(f\"{nc.text} ==> {wds.summary(wd)}\\n\")\n",
    "        nlinked += 1\n",
    "    else:\n",
    "        nfailed.append(nc.text)"
   ]
  },
  {
   "cell_type": "markdown",
   "metadata": {},
   "source": [
    "### Summarize the results"
   ]
  },
  {
   "cell_type": "code",
   "execution_count": null,
   "metadata": {},
   "outputs": [],
   "source": [
    "elapsed = time.time() - start\n",
    "avg = elapsed / (len(ent_set) + len(nominals))\n",
    "print(f\"Linked {elinked} of {len(ent_set)} entities ({100*elinked/efound:.1f})% and {nlinked} of {len(nominals)} nominals ({100*nlinked/nfound:.1f})%\")\n",
    "print(f\"Total time {elapsed:.1f} seconds, Average time {avg:.1f} seconds per attempt\")\n",
    "if efailed:\n",
    "    print(f\"\\nEntities not linked: {efailed}\")\n",
    "if nfailed:\n",
    "    print(f\"\\nNominals not linked: {nfailed}\")"
   ]
  },
  {
   "cell_type": "markdown",
   "metadata": {},
   "source": [
    "fin"
   ]
  }
 ],
 "metadata": {
  "kernelspec": {
   "display_name": "Python 3",
   "language": "python",
   "name": "python3"
  },
  "language_info": {
   "codemirror_mode": {
    "name": "ipython",
    "version": 3
   },
   "file_extension": ".py",
   "mimetype": "text/x-python",
   "name": "python",
   "nbconvert_exporter": "python",
   "pygments_lexer": "ipython3",
   "version": "3.8.1"
  }
 },
 "nbformat": 4,
 "nbformat_minor": 2
}
