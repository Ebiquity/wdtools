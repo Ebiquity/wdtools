{
 "cells": [
  {
   "cell_type": "markdown",
   "metadata": {},
   "source": [
    "# Spacy with coref heuristics"
   ]
  },
  {
   "cell_type": "code",
   "execution_count": 2,
   "metadata": {},
   "outputs": [
    {
     "ename": "ModuleNotFoundError",
     "evalue": "No module named 'wd_search'",
     "output_type": "error",
     "traceback": [
      "\u001b[0;31m---------------------------------------------------------------------------\u001b[0m",
      "\u001b[0;31mModuleNotFoundError\u001b[0m                       Traceback (most recent call last)",
      "\u001b[0;32m<ipython-input-2-e3e1459b4ebb>\u001b[0m in \u001b[0;36m<module>\u001b[0;34m\u001b[0m\n\u001b[1;32m      1\u001b[0m \u001b[0;32mimport\u001b[0m \u001b[0mspacy\u001b[0m\u001b[0;34m\u001b[0m\u001b[0;34m\u001b[0m\u001b[0m\n\u001b[1;32m      2\u001b[0m \u001b[0;32mfrom\u001b[0m \u001b[0mspacy\u001b[0m \u001b[0;32mimport\u001b[0m \u001b[0mdisplacy\u001b[0m\u001b[0;34m\u001b[0m\u001b[0;34m\u001b[0m\u001b[0m\n\u001b[0;32m----> 3\u001b[0;31m \u001b[0;32mimport\u001b[0m \u001b[0mwd_search\u001b[0m \u001b[0;32mas\u001b[0m \u001b[0mwd\u001b[0m\u001b[0;34m\u001b[0m\u001b[0;34m\u001b[0m\u001b[0m\n\u001b[0m\u001b[1;32m      4\u001b[0m \u001b[0;32mfrom\u001b[0m \u001b[0mimportlib\u001b[0m \u001b[0;32mimport\u001b[0m \u001b[0mreload\u001b[0m \u001b[0;31m# while developing\u001b[0m\u001b[0;34m\u001b[0m\u001b[0;34m\u001b[0m\u001b[0m\n",
      "\u001b[0;31mModuleNotFoundError\u001b[0m: No module named 'wd_search'"
     ]
    }
   ],
   "source": [
    "import spacy\n",
    "from spacy import displacy\n",
    "import wd_search as wd\n",
    "from importlib import reload # while developing"
   ]
  },
  {
   "cell_type": "code",
   "execution_count": null,
   "metadata": {},
   "outputs": [],
   "source": []
  },
  {
   "cell_type": "markdown",
   "metadata": {},
   "source": [
    "### Load Spacy's big model, s recommended by coreferee"
   ]
  },
  {
   "cell_type": "code",
   "execution_count": 2,
   "metadata": {},
   "outputs": [
    {
     "name": "stdout",
     "output_type": "stream",
     "text": [
      "['tok2vec', 'tagger', 'parser', 'ner', 'attribute_ruler', 'lemmatizer']\n"
     ]
    }
   ],
   "source": [
    "nlp = spacy.load(\"en_core_web_md\")\n",
    "print(nlp.pipe_names)"
   ]
  },
  {
   "cell_type": "code",
   "execution_count": 3,
   "metadata": {},
   "outputs": [],
   "source": [
    "sent = \"What is the prevalence of COVID-19 variants in southern US states?\"  "
   ]
  },
  {
   "cell_type": "code",
   "execution_count": 7,
   "metadata": {},
   "outputs": [
    {
     "data": {
      "text/plain": [
       "{'ns': 0,\n",
       " 'types': ['Q35120:entity'],\n",
       " 'description': 'Number of disease cases in a given population at a specific time',\n",
       " 'search_rank': 1,\n",
       " 'score': 0.8900666231541025,\n",
       " 'id': 'Q719602',\n",
       " 'qid': 'Q719602',\n",
       " 'label': 'prevalence',\n",
       " 'context': 'What is the prevalence of COVID-19 variants in southern US states?',\n",
       " 'score_rank': 1,\n",
       " 'rank': 1.0,\n",
       " 'counts': -1,\n",
       " 'scores': [],\n",
       " 'labels': {'en': 'prevalence',\n",
       "  'ru': 'Распространённость заболевания',\n",
       "  'zh': '患病率',\n",
       "  'fa': 'شیوع'},\n",
       " 'aliases': {'en': ['prevalence proportion'],\n",
       "  'ru': ['Болезненность',\n",
       "   'Распространенность болезни',\n",
       "   'Распространённость болезни',\n",
       "   'Распространенность заболевания'],\n",
       "  'zh': [],\n",
       "  'fa': []},\n",
       " 'descriptions': {'en': 'Number of disease cases in a given population at a specific time',\n",
       "  'ru': '',\n",
       "  'zh': '',\n",
       "  'fa': ''},\n",
       " 'sitelinks': 39}"
      ]
     },
     "execution_count": 7,
     "metadata": {},
     "output_type": "execute_result"
    }
   ],
   "source": [
    "wd.link(\"prevalence\", context=sent)"
   ]
  },
  {
   "cell_type": "code",
   "execution_count": 11,
   "metadata": {},
   "outputs": [
    {
     "data": {
      "text/plain": [
       "{'ns': 0,\n",
       " 'types': ['Q35120:entity', 'Q1190554:occurrence'],\n",
       " 'description': 'COVID-19 related clinical trial',\n",
       " 'search_rank': 2,\n",
       " 'score': 0.7510301190734193,\n",
       " 'id': 'Q107401573',\n",
       " 'qid': 'Q107401573',\n",
       " 'label': 'Safety and Immunogenicity Study of a SARS-CoV-2 (COVID-19) Variant Vaccine (mRNA-1273.351) in Naïve and Previously Vaccinated Adults',\n",
       " 'context': 'What is the prevalence of COVID-19 variants in southern US states?',\n",
       " 'score_rank': 1,\n",
       " 'rank': 1.5,\n",
       " 'counts': -1,\n",
       " 'scores': [],\n",
       " 'labels': {'en': 'Safety and Immunogenicity Study of a SARS-CoV-2 (COVID-19) Variant Vaccine (mRNA-1273.351) in Naïve and Previously Vaccinated Adults',\n",
       "  'ru': '',\n",
       "  'zh': '',\n",
       "  'fa': ''},\n",
       " 'aliases': {'en': [], 'ru': [], 'zh': [], 'fa': []},\n",
       " 'descriptions': {'en': 'COVID-19 related clinical trial',\n",
       "  'ru': '',\n",
       "  'zh': '',\n",
       "  'fa': ''},\n",
       " 'sitelinks': 0}"
      ]
     },
     "execution_count": 11,
     "metadata": {},
     "output_type": "execute_result"
    }
   ],
   "source": [
    "wd.link(\"COVID-19 variants\", target_types=['Q18420531'], context=sent)"
   ]
  },
  {
   "cell_type": "code",
   "execution_count": null,
   "metadata": {},
   "outputs": [],
   "source": []
  }
 ],
 "metadata": {
  "kernelspec": {
   "display_name": "Python 3",
   "language": "python",
   "name": "python3"
  },
  "language_info": {
   "codemirror_mode": {
    "name": "ipython",
    "version": 3
   },
   "file_extension": ".py",
   "mimetype": "text/x-python",
   "name": "python",
   "nbconvert_exporter": "python",
   "pygments_lexer": "ipython3",
   "version": "3.8.1"
  }
 },
 "nbformat": 4,
 "nbformat_minor": 2
}
