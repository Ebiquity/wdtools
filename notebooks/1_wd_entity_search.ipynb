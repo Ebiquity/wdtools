{
 "cells": [
  {
   "cell_type": "markdown",
   "metadata": {},
   "source": [
    "## Wikidata entity linking using Wikimedia Search\n",
    "\n",
    "**wd_search.py** finds entities given a string and optional sets of types. It returns a ranked list of objects, one for each hit, with basic information from Wikidata and optionally DBpedia in one or more languages. An example of a call from the command line:\n",
    "\n",
    "  *python wd_search.py \"UMBC\" --types ORG --oktypes LOC FAC --badtypes 'sports team' --lang en zh --dbpedia --limit 20 --top 5*\n",
    "\n",
    "Types can be any wikidata type (e.g., Q5 for human) or a type name in entity_types.py.  The search prefers hits with a type in **--types** but will accept onese with a type in **--oktypes**.  If an entity has a type in **--badtypes**, it is rejected. The **--limit** parameter defines how many initial candidates are checked (up to 50) and **--top** says how many good hits are returned.\n",
    "\n",
    "**wd_search()** is the basic function to call and **wd-scale_search()** is a version with defaults set for the 2021 scale project."
   ]
  },
  {
   "cell_type": "code",
   "execution_count": 1,
   "metadata": {},
   "outputs": [
    {
     "ename": "ModuleNotFoundError",
     "evalue": "No module named 'wd_search'",
     "output_type": "error",
     "traceback": [
      "\u001b[0;31m---------------------------------------------------------------------------\u001b[0m",
      "\u001b[0;31mModuleNotFoundError\u001b[0m                       Traceback (most recent call last)",
      "\u001b[0;32m<ipython-input-1-b2711490a235>\u001b[0m in \u001b[0;36m<module>\u001b[0;34m\u001b[0m\n\u001b[0;32m----> 1\u001b[0;31m \u001b[0;32mimport\u001b[0m \u001b[0mwd_search\u001b[0m \u001b[0;32mas\u001b[0m \u001b[0mwds\u001b[0m\u001b[0;34m\u001b[0m\u001b[0;34m\u001b[0m\u001b[0m\n\u001b[0m",
      "\u001b[0;31mModuleNotFoundError\u001b[0m: No module named 'wd_search'"
     ]
    }
   ],
   "source": [
    "import wd_search as wds"
   ]
  },
  {
   "cell_type": "markdown",
   "metadata": {},
   "source": [
    "### For this demo, we define a link() function that gets the top ranked entity found by wd_search() and returns a summary with its id, canonical name, short description, and url"
   ]
  },
  {
   "cell_type": "code",
   "execution_count": 4,
   "metadata": {},
   "outputs": [],
   "source": [
    "def link(string, type='Q35120', dbpedia=0):\n",
    "    # default type is 'entity'\n",
    "    return wds.wd_scale_search(string, target_types=[type], dbpedia=dbpedia, top=1)[0]"
   ]
  },
  {
   "cell_type": "markdown",
   "metadata": {},
   "source": [
    "### The search matches the string agains wikidata items' name, aliases, descriptions, and property values and also takes into account various measures of prominance and other factors to ranke the results."
   ]
  },
  {
   "cell_type": "code",
   "execution_count": 5,
   "metadata": {},
   "outputs": [
    {
     "data": {
      "text/plain": [
       "('Q9685',\n",
       " 'Diana, Princess of Wales',\n",
       " 'first wife of Charles, Prince of Wales (1961-1997)',\n",
       " 'https://wikidata.org/wiki/Q9685')"
      ]
     },
     "execution_count": 5,
     "metadata": {},
     "output_type": "execute_result"
    }
   ],
   "source": [
    "wds.summary(link(\"Diana\", 'PER'))"
   ]
  },
  {
   "cell_type": "code",
   "execution_count": 4,
   "metadata": {},
   "outputs": [
    {
     "data": {
      "text/plain": [
       "('Q64780099',\n",
       " 'Human Language Technology Center of Excellence',\n",
       " 'research center at Johns Hopkins University',\n",
       " 'https://wikidata.org/wiki/Q64780099')"
      ]
     },
     "execution_count": 4,
     "metadata": {},
     "output_type": "execute_result"
    }
   ],
   "source": [
    "wds.summary(link(\"HLTCOE\", 'ORG'))"
   ]
  },
  {
   "cell_type": "code",
   "execution_count": 5,
   "metadata": {},
   "outputs": [
    {
     "data": {
      "text/plain": [
       "('Q2748733',\n",
       " 'Patapsco River',\n",
       " 'river in Maryland, United States',\n",
       " 'https://wikidata.org/wiki/Q2748733')"
      ]
     },
     "execution_count": 5,
     "metadata": {},
     "output_type": "execute_result"
    }
   ],
   "source": [
    "wds.summary(link(\"Patapsco River\"))"
   ]
  },
  {
   "cell_type": "markdown",
   "metadata": {},
   "source": [
    "### If we don't specify a type, any entity can match. Search for Patapsco returns a town in MD as the first hit."
   ]
  },
  {
   "cell_type": "code",
   "execution_count": 16,
   "metadata": {},
   "outputs": [
    {
     "data": {
      "text/plain": [
       "('Q7144250',\n",
       " 'Patapsco',\n",
       " 'town in Carroll County, Maryland',\n",
       " 'https://wikidata.org/wiki/Q7144250')"
      ]
     },
     "execution_count": 16,
     "metadata": {},
     "output_type": "execute_result"
    }
   ],
   "source": [
    "wds.summary(link(\"Patapsco\"))"
   ]
  },
  {
   "cell_type": "markdown",
   "metadata": {},
   "source": [
    "### The type is a strong signal about what we want, tho. NORP is an ontonotes type for \"Nationality, Organization, Religious, Political\"."
   ]
  },
  {
   "cell_type": "code",
   "execution_count": 7,
   "metadata": {},
   "outputs": [
    {
     "data": {
      "text/plain": [
       "('Q42740',\n",
       " 'Han Chinese people',\n",
       " 'ethnic group',\n",
       " 'https://wikidata.org/wiki/Q42740')"
      ]
     },
     "execution_count": 7,
     "metadata": {},
     "output_type": "execute_result"
    }
   ],
   "source": [
    "wds.summary(link(\"Chinese\",\"NORP\"))"
   ]
  },
  {
   "cell_type": "markdown",
   "metadata": {},
   "source": [
    "### We get a different match if we use the ontonotes LANGUAGE type."
   ]
  },
  {
   "cell_type": "code",
   "execution_count": 17,
   "metadata": {},
   "outputs": [
    {
     "data": {
      "text/plain": [
       "('Q37041',\n",
       " 'Classical Chinese',\n",
       " 'language of the Sino-Tibetan language family (ISO 639-3: lzh)',\n",
       " 'https://wikidata.org/wiki/Q37041')"
      ]
     },
     "execution_count": 17,
     "metadata": {},
     "output_type": "execute_result"
    }
   ],
   "source": [
    "wds.summary(link(\"Chinese\",\"LANGUAGE\"))"
   ]
  },
  {
   "cell_type": "markdown",
   "metadata": {},
   "source": [
    "### A simple, fast NLP pipline like Spacy can type named enties with ontonotes types.  Here's Donbas, a region in the Ukraine."
   ]
  },
  {
   "cell_type": "code",
   "execution_count": 9,
   "metadata": {},
   "outputs": [
    {
     "data": {
      "text/plain": [
       "('Q605714',\n",
       " 'Donbas',\n",
       " 'region in eastern Ukraine',\n",
       " 'https://wikidata.org/wiki/Q605714')"
      ]
     },
     "execution_count": 9,
     "metadata": {},
     "output_type": "execute_result"
    }
   ],
   "source": [
    "wds.summary(link(\"Donbas\",\"GPE\"))"
   ]
  },
  {
   "cell_type": "markdown",
   "metadata": {},
   "source": [
    "### If we set dbpedia to True, here is the information we get from search for a GPE suing 'ukraine'"
   ]
  },
  {
   "cell_type": "code",
   "execution_count": 15,
   "metadata": {},
   "outputs": [
    {
     "name": "stdout",
     "output_type": "stream",
     "text": [
      "{\n",
      "  \"DBpedia_types\":[\n",
      "    \"Place\",\n",
      "    \"Location\",\n",
      "    \"Country\",\n",
      "    \"PopulatedPlace\"\n",
      "  ],\n",
      "  \"en\":{\n",
      "    \"abstract\":\"Ukraine (Ukrainian: Україна, romanized: Ukrayina, pronounced [ʊkrɐˈjinɐ] (); Russian: Украи́на, tr. Ukraína, IPA: [ʊkrɐˈinə]) is a country in Eastern Europe. It is bordered by Russia to the north-east; Belarus to the north; Poland, Slovakia and Hungary to the west; and Romania, Moldova, and the Black Sea to the south. Ukraine is currently in a territorial dispute with Russia over the Crimean Peninsula, which Russia annexed in 2014. Including the Crimean Peninsula, Ukraine has an area of 603,628 km2 (233,062 sq mi), making it the largest country located entirely in Europe, and the 46th-largest country in the world. Excluding Crimea, Ukraine has a population of about 42 million, making it the eighth or ninth-most populous country in Europe, and the 32nd-most populous country in the world. Its capital and largest city is Kiev. Ukrainian is the official language and its alphabet is Cyrillic. The dominant religion in the country is Eastern Orthodoxy. The territory of modern Ukraine has been inhabited since 32,000 BC. During the Middle Ages, the area was a key centre of East Slavic culture, with the powerful state of Kievan Rus' forming the basis of Ukrainian identity. Following its fragmentation in the 13th century, the territory was contested, ruled and divided by a variety of powers, including the Polish–Lithuanian Commonwealth, Austria-Hungary, the Ottoman Empire and Russia. A Cossack republic emerged and prospered during the 17th and 18th centuries, but its territory was eventually split between Poland and the Russian Empire. After World War II the Western part of Ukraine merged into the Ukrainian Soviet Socialist Republic, and the whole country became a part of the Soviet Union as a single state entity. Ukraine gained its independence in 1991, following the dissolution of the Soviet Union at the end of the Cold War. Before its independence, Ukraine was typically referred to in English as \\\"The Ukraine\\\", but most sources have since moved to drop \\\"the\\\" from the name of Ukraine in all uses. Following its independence, Ukraine declared itself a neutral state; it formed a limited military partnership with Russia and other CIS countries while also establishing a partnership with NATO in 1994. In 2013, after the government of President Viktor Yanukovych had decided to suspend the Ukraine-European Union Association Agreement and seek closer economic ties with Russia, a several-months-long wave of demonstrations and protests known as the Euromaidan began, which later escalated into the 2014 Ukrainian revolution that led to the overthrow of Yanukovych and the establishment of a new government. These events formed the background for the annexation of Crimea by Russia in March 2014, and the War in Donbass in April 2014. On 1 January 2016, Ukraine applied the economic component of the Deep and Comprehensive Free Trade Area with the European Union. Ukraine is a developing country and ranks 88th on the Human Development Index. As of 2020, Ukraine is the poorest country in Europe alongside Moldova in terms of GDP per capita. At US$40, it has the lowest median wealth per adult in the world, and suffers from a very high poverty rate as well as severe corruption. However, because of its extensive fertile farmlands, Ukraine is one of the world's largest grain exporters. It also maintains the second-largest military in Europe after the Russian Armed Forces. Ukraine is a unitary republic under a semi-presidential system with separate powers: legislative, executive and judicial branches. The country is a member of the United Nations, the Council of Europe, the Organization for Security and Co-operation in Europe (OSCE), the GUAM organization, and one of the founding states of the Commonwealth of Independent States (CIS).\",\n",
      "    \"aliases\":[\n",
      "      \"UKR\",\n",
      "      \"UA\",\n",
      "      \"Ukraina\",\n",
      "      \"ua\",\n",
      "      \"🇺🇦\",\n",
      "      \"Ukr.\",\n",
      "      \"Ukrainia\"\n",
      "    ],\n",
      "    \"description\":\"sovereign state in eastern Europe\",\n",
      "    \"label\":\"Ukraine\",\n",
      "    \"wikiname\":\"Ukraine\"\n",
      "  },\n",
      "  \"fa\":{\n",
      "    \"aliases\":[],\n",
      "    \"description\":\"کشوری در شرق قارهٔ اروپا\",\n",
      "    \"label\":\"اوکراین\",\n",
      "    \"wikiname\":\"اوکراین\"\n",
      "  },\n",
      "  \"id\":\"Q212\",\n",
      "  \"immediate_types\":[\n",
      "    \"Q3624078:sovereign state\"\n",
      "  ],\n",
      "  \"is_instance\":\"true\",\n",
      "  \"is_type\":\"false\",\n",
      "  \"ru\":{\n",
      "    \"abstract\":\"Украи́нская Сове́тская Социалисти́ческая Респу́блика (УССР; укр. Українська Радянська Соціалістична Республіка, УРСР) — социалистическое украинское государство, провозглашённое на части территории бывшей Российской империи 10 марта 1919 года; одно из государств-основателей СССР, союзная республика в его составе. До принятия Конституции СССР 1936 года официально именовалась Украинская Социалистическая Советская Республика. Наряду с БССР была суверенным сооснователем ООН в 1945 году. 24 августа 1991 года Верховный Совет Украинской ССР принял Акт провозглашения независимости и постановление «О провозглашении независимости Украины». Этими документами были провозглашены независимость Украины и создание самостоятельного украинского государства. В соответствии с актом, территория Украины является неделимой и неприкосновенной и отныне на её территории действуют исключительно Конституция и законы Украины. Акт провозглашения независимости был подтверждён на референдуме 1 декабря 1991 года.\",\n",
      "    \"aliases\":[],\n",
      "    \"description\":\"государство в Восточной Европе\",\n",
      "    \"label\":\"Украина\",\n",
      "    \"wikiname\":\"Украина\"\n",
      "  },\n",
      "  \"search_string\":\"Ukraine\",\n",
      "  \"types\":[\n",
      "    \"Q56061:administrative territorial entity\"\n",
      "  ],\n",
      "  \"wd_uri\":\"https://www.wikidata.org/wiki/Q212\",\n",
      "  \"wikipedia\":\"Ukraine\",\n",
      "  \"zh\":{\n",
      "    \"abstract\":\"乌克兰（烏克蘭語：Україна，转写：Ukrayina；乌克兰语音标： [ukrɑˈjinɑ]）是位于东欧的共和国，南接黑海、东连俄罗斯、北与白俄罗斯毗邻、西与波兰、斯洛伐克、匈牙利、羅馬尼亞和摩尔多瓦诸国相连。乌克兰是欧洲面积第二大的国家，仅次于俄罗斯，人口4220万人（不包括被俄罗斯吞并的克里米亚和塞瓦斯托波爾，2015年9月8日）。乌克兰地理位置重要，是欧洲联盟与独联体，特别是与俄罗斯地缘政治的交叉点。 根據考古資料，烏克蘭存在過舊石器時代和新石器時代。 在9世纪时，基辅罗斯作为东斯拉夫人的国家曾一度十分强盛，直至12世纪分裂。自14世纪中叶起，乌克兰被欽察汗国、波兰王国和立陶宛大公国先后统治。在大北方战争（1700－1721年）后，乌克兰被其他势力瓜分。19世纪时，乌克兰大部归属于俄罗斯帝国，其余部分为奥匈帝国领土。在第一次世界大战和俄国革命的混乱时期，乌克兰曾在1917年至1921年短暂独立。在乌克兰内战后，乌克兰苏维埃社会主义共和国在1922年成为了苏联创始加盟共和国之一。随后直至第二次世界大战结束后，原為波蘭統治的西烏克蘭併入苏维埃乌克兰。在1945年，乌克兰成为联合国创始国之一。 1991年苏联解体后乌克兰重新独立，作為独联体发起与创始国之一。2014年俄羅斯收回克里米亞後，烏克蘭即退出独联体。乌克兰在獨立後由於實行未成熟的市场经济方向改革，使得國家进入八年的经济衰退时期，不过其间也出现过高增长。乌克兰目前是世界上重要的市场之一，在世界上曾經是第三大粮食出口国。乌克兰继承了苏联的军事基础，並维持着仅次于俄国的欧洲第二大军事力量。 根据乌克兰的行政区划，乌克兰有24个州、一个自治共和国（克里米亚自治共和国，但2014年已另外建立克里米亞共和國並且实质由俄羅斯管治），和两个直辖市（首都基辅和塞瓦斯托波爾，后者實質由俄羅斯管治）。人口构成上78%为乌克兰人，其余有俄羅斯人和羅馬尼亞人等。乌克兰官方语言为乌克兰语，主要宗教为东正教。\",\n",
      "    \"aliases\":[\n",
      "      \"乌克兰\"\n",
      "    ],\n",
      "    \"description\":\"東歐國家\",\n",
      "    \"label\":\"烏克蘭\",\n",
      "    \"wikiname\":\"乌克兰\"\n",
      "  }\n",
      "}\n"
     ]
    }
   ],
   "source": [
    "print(wds.hits_string(link(\"Ukraine\",\"GPE\", dbpedia=1)))"
   ]
  },
  {
   "cell_type": "markdown",
   "metadata": {},
   "source": [
    "### This is a very simple approach that can't do much if there are many good candidates with the right type.\n",
    "\n",
    "Try looking for a PER named **Michael Jordon**; Wikidata has 13 entries! Plus, our search finds more, because they mention *Michael Jordan* in their description or some other property."
   ]
  },
  {
   "cell_type": "code",
   "execution_count": 11,
   "metadata": {},
   "outputs": [],
   "source": [
    "mjs = wds.wd_scale_search(\"Michael Jordan\", target_types=['PER'], dbpedia=0, top=20, limit=40)"
   ]
  },
  {
   "cell_type": "code",
   "execution_count": 12,
   "metadata": {},
   "outputs": [
    {
     "data": {
      "text/plain": [
       "[('Q41421',\n",
       "  'Michael Jordan',\n",
       "  'American basketball player and businessman',\n",
       "  'https://wikidata.org/wiki/Q41421'),\n",
       " ('Q3308285',\n",
       "  'Michael I. Jordan',\n",
       "  'American computer scientist, University of California, Berkeley',\n",
       "  'https://wikidata.org/wiki/Q3308285'),\n",
       " ('Q27069141',\n",
       "  'Michael Jordan',\n",
       "  'American football cornerback',\n",
       "  'https://wikidata.org/wiki/Q27069141'),\n",
       " ('Q1928047',\n",
       "  'Michael Jordan',\n",
       "  'German draughtsperson, artist and comics artist',\n",
       "  'https://wikidata.org/wiki/Q1928047'),\n",
       " ('Q6831715',\n",
       "  'Michael Jordan',\n",
       "  'Irish politician',\n",
       "  'https://wikidata.org/wiki/Q6831715'),\n",
       " ('Q65029442',\n",
       "  'Michael Jordan',\n",
       "  'American football offensive lineman',\n",
       "  'https://wikidata.org/wiki/Q65029442'),\n",
       " ('Q6831719',\n",
       "  'Michael Jordan',\n",
       "  'British mycoloigst',\n",
       "  'https://wikidata.org/wiki/Q6831719'),\n",
       " ('Q6831716',\n",
       "  'Michael Jordan',\n",
       "  'English footballer (born 1984)',\n",
       "  'https://wikidata.org/wiki/Q6831716'),\n",
       " ('Q95244944', 'Michael Jordan', '', 'https://wikidata.org/wiki/Q95244944'),\n",
       " ('Q100983906',\n",
       "  'Michael Jordan',\n",
       "  'college basketball player (2001–2001) New Mexico',\n",
       "  'https://wikidata.org/wiki/Q100983906'),\n",
       " ('Q100983908',\n",
       "  'Michael Jordan',\n",
       "  'college basketball player (1998–1999) Detroit Mercy',\n",
       "  'https://wikidata.org/wiki/Q100983908'),\n",
       " ('Q97521844',\n",
       "  'Michael Jordan',\n",
       "  'researcher',\n",
       "  'https://wikidata.org/wiki/Q97521844'),\n",
       " ('Q6835972',\n",
       "  'Michaël Jordan Nkololo',\n",
       "  'Congolese footballer',\n",
       "  'https://wikidata.org/wiki/Q6835972'),\n",
       " ('Q105674983',\n",
       "  'Michael H. Jordan',\n",
       "  'politician in Massachusetts, US',\n",
       "  'https://wikidata.org/wiki/Q105674983'),\n",
       " ('Q92150546',\n",
       "  'Michael Jordan Raddick',\n",
       "  'researcher (ORCID 0000-0003-0801-7360)',\n",
       "  'https://wikidata.org/wiki/Q92150546'),\n",
       " ('Q6181572',\n",
       "  'Jeremy Jordan',\n",
       "  'American actor and singer (born 1984)',\n",
       "  'https://wikidata.org/wiki/Q6181572'),\n",
       " ('Q3161193',\n",
       "  'James R. Jordan, Sr.',\n",
       "  'murder victim, father of basketball player Michael Jordan',\n",
       "  'https://wikidata.org/wiki/Q3161193'),\n",
       " ('Q29348175',\n",
       "  'Deloris Jordan',\n",
       "  'American banker, mother of basketball player Michael Jordan',\n",
       "  'https://wikidata.org/wiki/Q29348175'),\n",
       " ('Q18122000',\n",
       "  'MJ Williams',\n",
       "  'Welsh association football player',\n",
       "  'https://wikidata.org/wiki/Q18122000'),\n",
       " ('Q966389',\n",
       "  'Michael-Hakim Jordan',\n",
       "  'American basketball player-coach',\n",
       "  'https://wikidata.org/wiki/Q966389')]"
      ]
     },
     "execution_count": 12,
     "metadata": {},
     "output_type": "execute_result"
    }
   ],
   "source": [
    "wds.summary(mjs)"
   ]
  },
  {
   "cell_type": "markdown",
   "metadata": {},
   "source": [
    "### You can also search for a concept, not just named entities."
   ]
  },
  {
   "cell_type": "code",
   "execution_count": 6,
   "metadata": {},
   "outputs": [
    {
     "data": {
      "text/plain": [
       "('Q384080',\n",
       " 'letter bomb',\n",
       " 'Explosive device',\n",
       " 'https://wikidata.org/wiki/Q384080')"
      ]
     },
     "execution_count": 6,
     "metadata": {},
     "output_type": "execute_result"
    }
   ],
   "source": [
    "wds.summary(link(\"letter bomb\"))"
   ]
  },
  {
   "cell_type": "code",
   "execution_count": 12,
   "metadata": {},
   "outputs": [
    {
     "data": {
      "text/plain": [
       "('Q177456',\n",
       " 'assault rifle',\n",
       " 'type of selective fire rifle',\n",
       " 'https://wikidata.org/wiki/Q177456')"
      ]
     },
     "execution_count": 12,
     "metadata": {},
     "output_type": "execute_result"
    }
   ],
   "source": [
    "wds.summary(link(\"assault rifle\"))"
   ]
  },
  {
   "cell_type": "markdown",
   "metadata": {},
   "source": [
    "fin"
   ]
  },
  {
   "cell_type": "code",
   "execution_count": null,
   "metadata": {},
   "outputs": [],
   "source": []
  },
  {
   "cell_type": "code",
   "execution_count": null,
   "metadata": {},
   "outputs": [],
   "source": []
  }
 ],
 "metadata": {
  "kernelspec": {
   "display_name": "Python 3",
   "language": "python",
   "name": "python3"
  },
  "language_info": {
   "codemirror_mode": {
    "name": "ipython",
    "version": 3
   },
   "file_extension": ".py",
   "mimetype": "text/x-python",
   "name": "python",
   "nbconvert_exporter": "python",
   "pygments_lexer": "ipython3",
   "version": "3.8.1"
  }
 },
 "nbformat": 4,
 "nbformat_minor": 2
}
