{
 "cells": [
  {
   "cell_type": "markdown",
   "metadata": {},
   "source": [
    "# Testing Procure Wikidata entity linking"
   ]
  },
  {
   "cell_type": "code",
   "execution_count": 1,
   "metadata": {},
   "outputs": [
    {
     "name": "stdout",
     "output_type": "stream",
     "text": [
      "Loading config file wd_search_config.yml\n",
      "spacy_entity_linker\n"
     ]
    }
   ],
   "source": [
    "import spacy\n",
    "from spacy import displacy\n",
    "import wd_search as wd\n",
    "from importlib import reload # while developing"
   ]
  },
  {
   "cell_type": "markdown",
   "metadata": {},
   "source": [
    "### Load Spacy's medium model"
   ]
  },
  {
   "cell_type": "code",
   "execution_count": 2,
   "metadata": {},
   "outputs": [],
   "source": [
    "nlp = spacy.load(\"en_core_web_md\")"
   ]
  },
  {
   "cell_type": "code",
   "execution_count": 71,
   "metadata": {},
   "outputs": [
    {
     "name": "stdout",
     "output_type": "stream",
     "text": [
      "Loading config file wd_search_config.yml\n"
     ]
    },
    {
     "data": {
      "text/plain": [
       "<module 'wd_search' from '/Users/finin/code/wdtools/wd_search.py'>"
      ]
     },
     "execution_count": 71,
     "metadata": {},
     "output_type": "execute_result"
    }
   ],
   "source": [
    "# uncomment and reload if debugging\n",
    "# reload(wd)"
   ]
  },
  {
   "cell_type": "code",
   "execution_count": 89,
   "metadata": {},
   "outputs": [],
   "source": [
    "def test(string, qid='?', label='?', context='', MAX=20):\n",
    "    \"\"\" find link for string and compare it to ground truth if qid is given.\n",
    "        Shows initial and final search string used to get link \"\"\"\n",
    "    if qid != '?':\n",
    "        print(f\"GTRUTH: '{string}' ==> {qid}; '{label}'\")\n",
    "    link = wd.link(string, context=context)\n",
    "    if not link:\n",
    "        print(f\"- LINK: '{string}' ==> None None\")\n",
    "    else:\n",
    "        q,s,l,d = wd.summary(link)\n",
    "        d = d[:MAX]+'...' if len(d)>MAX else d\n",
    "        result = \"-\" if (qid != '?' and q != qid) else \"+\"\n",
    "        print(f\"{result} LINK: '{string}'=>'{s}' ==> {q}; '{l}'; '{d}'\")\n",
    "    print()"
   ]
  },
  {
   "cell_type": "markdown",
   "metadata": {},
   "source": [
    "### Some simple tests"
   ]
  },
  {
   "cell_type": "code",
   "execution_count": 77,
   "metadata": {},
   "outputs": [
    {
     "name": "stdout",
     "output_type": "stream",
     "text": [
      "GTRUTH: 'NIH' ==> Q390551; 'National Institutes of Health'\n",
      "+ LINK: 'NIH'=>'NIH' ==> Q390551; 'National Institutes of Health'; 'medical research organ..'\n",
      "\n"
     ]
    }
   ],
   "source": [
    "# Simple example\n",
    "test('NIH', qid='Q390551', label='National Institutes of Health')"
   ]
  },
  {
   "cell_type": "code",
   "execution_count": 78,
   "metadata": {},
   "outputs": [
    {
     "name": "stdout",
     "output_type": "stream",
     "text": [
      "GTRUTH: 'Obama' ==> Q76; 'Barack Obama'\n",
      "- LINK: 'Obama'=>'Obama' ==> Q18355807; 'Obama'; 'genus of worms'\n",
      "\n"
     ]
    }
   ],
   "source": [
    "# This one fails because we prefer a biomedical item.  Obama is the name of a class of worms\n",
    "test('Obama', qid='Q76', label='Barack Obama')"
   ]
  },
  {
   "cell_type": "code",
   "execution_count": 79,
   "metadata": {},
   "outputs": [
    {
     "name": "stdout",
     "output_type": "stream",
     "text": [
      "GTRUTH: 'Mortality rate Ï' ==> Q58702; '?'\n",
      "+ LINK: 'Mortality rate Ï'=>'mortality rate' ==> Q58702; 'mortality rate'; 'measure of the number ..'\n",
      "\n"
     ]
    }
   ],
   "source": [
    "# we remove any non-ascii characters from the \n",
    "test('Mortality rate \\xcf\\x80', qid=\"Q58702\")"
   ]
  },
  {
   "cell_type": "code",
   "execution_count": 80,
   "metadata": {},
   "outputs": [
    {
     "name": "stdout",
     "output_type": "stream",
     "text": [
      "+ LINK: 'authors'=>'author' ==> Q482980; 'author'; 'author or intellectual..'\n",
      "\n"
     ]
    }
   ],
   "source": [
    "# we reduce tokens to their lemmas, so 'authors' becomes 'author'\n",
    "test('authors')"
   ]
  },
  {
   "cell_type": "code",
   "execution_count": 81,
   "metadata": {},
   "outputs": [
    {
     "name": "stdout",
     "output_type": "stream",
     "text": [
      "+ LINK: 'HCPâs death toll %'=>'death toll' ==> Q65096341; 'death toll'; 'number of deaths follo..'\n",
      "\n"
     ]
    }
   ],
   "source": [
    "# we remove the utf-8 characters and also a small set of characters like parentheses and %\n",
    "test('HCP\\xe2\\x80\\x99s death toll %')"
   ]
  },
  {
   "cell_type": "markdown",
   "metadata": {},
   "source": [
    "### Load test data from a tab-seperated text file\n",
    " * the examples are from the initial ones Vijay sent us\n",
    " * each line in the file has a string, qid & label from a human annotator\n",
    " * some of the 'wrong' examples may be ok alternatives\n",
    " * other wrong ones may need some sample cell values to guide the linking"
   ]
  },
  {
   "cell_type": "code",
   "execution_count": 82,
   "metadata": {},
   "outputs": [
    {
     "name": "stdout",
     "output_type": "stream",
     "text": [
      "GTRUTH: 'Types' ==> Q161524; 'mask'\n",
      "- LINK: 'Types'=>'type' ==> Q3707858; 'type'; 'anchoring point (of a name) in taxonomy'\n",
      "\n",
      "GTRUTH: 'Death rate %' ==> Q58702; 'mortality rate'\n",
      "+ LINK: 'Death rate %'=>'death rate' ==> Q58702; 'mortality rate'; 'measure of the number ..'\n",
      "\n",
      "GTRUTH: 'Sample size' ==> Q70443487; 'sample size'\n",
      "+ LINK: 'Sample size'=>'sample size' ==> Q70443487; 'sample size'; 'number of units (e.g. ..'\n",
      "\n",
      "GTRUTH: 'Authors' ==> Q11801904; 'PMCI'\n",
      "- LINK: 'Authors'=>'author' ==> Q482980; 'author'; 'author or intellectual..'\n",
      "\n",
      "GTRUTH: 'Virus' ==> Q855769; 'strain'\n",
      "- LINK: 'Virus'=>'virus' ==> Q808; 'virus'; 'non-cellular, submicro..'\n",
      "\n",
      "GTRUTH: 'Vaccine Platform' ==> Q105967696; 'vaccine type'\n",
      "- LINK: 'Vaccine Platform'=>'Vaccine platform' ==> Q108028785; 'Vaccine Platform'; 'an underlying mechanis..'\n",
      "\n",
      "GTRUTH: 'HCP\\xe2\\x80\\x99s death toll %' ==> Q58702; 'mortality rate'\n",
      "- LINK: 'HCP\\xe2\\x80\\x99s death toll %'=>'death toll' ==> Q65096341; 'death toll'; 'number of deaths follo..'\n",
      "\n",
      "GTRUTH: 'Pathogen' ==> Q170065; 'pathogen'\n",
      "+ LINK: 'Pathogen'=>'Pathogen' ==> Q170065; 'pathogen'; 'biological entity that..'\n",
      "\n",
      "GTRUTH: 'Capital' ==> Q5119; 'capital'\n",
      "+ LINK: 'Capital'=>'capital' ==> Q5119; 'capital'; 'primary governing city..'\n",
      "\n",
      "GTRUTH: 'Cluster location' ==> Q2221906; 'geographic location'\n",
      "- LINK: 'Cluster location'=>'cluster location' ==> Q750130; 'nerve plexus'; 'cluster of nerves that..'\n",
      "\n",
      "GTRUTH: 'Intubation' ==> Q939018; 'intubation'\n",
      "+ LINK: 'Intubation'=>'intubation' ==> Q939018; 'intubation'; 'insertion of a tube into the human body'\n",
      "\n",
      "GTRUTH: 'Mortality rate \\xcf\\x80' ==> Q58702; 'mortality rate'\n",
      "+ LINK: 'Mortality rate \\xcf\\x80'=>'mortality rate' ==> Q58702; 'mortality rate'; 'measure of the number ..'\n",
      "\n",
      "GTRUTH: 'Country' ==> Q2221906; 'geographic location'\n",
      "- LINK: 'Country'=>'country' ==> Q6256; 'country'; 'distinct region in geo..'\n",
      "\n",
      "GTRUTH: 'Safety' ==> Q105256838; 'vaccine safety'\n",
      "- LINK: 'Safety'=>'safety' ==> Q10566551; 'safety'; 'state of being secure ..'\n",
      "\n",
      "GTRUTH: 'City' ==> Q515; 'city'\n",
      "+ LINK: 'City'=>'city' ==> Q515; 'city'; 'large permanent human settlement'\n",
      "\n",
      "GTRUTH: 'Country' ==> Q6256; 'country'\n",
      "+ LINK: 'Country'=>'country' ==> Q6256; 'country'; 'distinct region in geo..'\n",
      "\n",
      "GTRUTH: 'Countries' ==> Q6256; 'country'\n",
      "+ LINK: 'Countries'=>'country' ==> Q6256; 'country'; 'distinct region in geo..'\n",
      "\n"
     ]
    }
   ],
   "source": [
    "test_file = 'linking_tests.tsv'\n",
    "tests = [line.strip().split('\\t') for line in open(test_file)]\n",
    "\n",
    "# run all of the tests\n",
    "for string, qid, label in tests:\n",
    "    test(string, qid=qid, label=label)\n"
   ]
  },
  {
   "cell_type": "markdown",
   "metadata": {},
   "source": [
    "### We use SpaCy to find noun-chunks in a sentence and link each one, using the sentence as context"
   ]
  },
  {
   "cell_type": "code",
   "execution_count": 83,
   "metadata": {},
   "outputs": [
    {
     "name": "stdout",
     "output_type": "stream",
     "text": [
      "+ LINK: 'Trials'=>'trial' ==> Q1436668; 'randomized controlled trial'; 'experimental method de..'\n",
      "\n",
      "+ LINK: 'vaccines'=>'vaccine' ==> Q134808; 'vaccine'; 'substance used to stim..'\n",
      "\n",
      "+ LINK: 'antiviral drugs'=>'antiviral drug' ==> Q846227; 'antiviral drug'; 'class of medications'\n",
      "\n",
      "+ LINK: 'immunotherapies'=>'immunotherapy' ==> Q72138716; 'adoptive immunotherapy'; 'transfer immunotherapy..'\n",
      "\n",
      "+ LINK: 'monoclonal antibodies'=>'monoclonal antibody' ==> Q422248; 'monoclonal antibody'; 'monospecific antibody ..'\n",
      "\n",
      "+ LINK: 'stem cells'=>'stem cell' ==> Q48196; 'stem cell'; 'undifferentiated biolo..'\n",
      "\n",
      "+ LINK: 'nitric oxide'=>'nitric oxide' ==> Q14916164; 'nitric oxide biosynthetic process'; 'The chemical reactions..'\n",
      "\n",
      "+ LINK: 'Table'=>'table' ==> Q278425; 'table'; 'set of data elements in databases'\n",
      "\n"
     ]
    }
   ],
   "source": [
    "sent = nlp(\"Trials involving vaccines, antiviral drugs, immunotherapies, \\\n",
    "monoclonal antibodies, stem cells, and nitric oxide are summarized in Table 1.\")\n",
    "\n",
    "for chunk in sent.noun_chunks:\n",
    "    test(chunk.text, context=sent)"
   ]
  },
  {
   "cell_type": "markdown",
   "metadata": {},
   "source": [
    "### Here we use the previous sentence as context for prevalence\n",
    "  * but the context is not needed because we prefer MESH terms, in general\n",
    "  * MESH term are from an NLM controlled vocabulary for Medical Subject Headings"
   ]
  },
  {
   "cell_type": "code",
   "execution_count": 92,
   "metadata": {},
   "outputs": [
    {
     "name": "stdout",
     "output_type": "stream",
     "text": [
      "+ LINK: 'prevalence'=>'prevalence' ==> Q719602; 'prevalence'; 'Number of disease case...'\n",
      "\n",
      "+ LINK: 'prevalence'=>'prevalence' ==> Q719602; 'prevalence'; 'Number of disease case...'\n",
      "\n"
     ]
    }
   ],
   "source": [
    "test(\"prevalence\")\n",
    "test(\"prevalence\", context=sent)"
   ]
  },
  {
   "cell_type": "code",
   "execution_count": 95,
   "metadata": {},
   "outputs": [
    {
     "name": "stdout",
     "output_type": "stream",
     "text": [
      "+ LINK: 'COVID-19 variants'=>'covid-19 variant' ==> Q106581308; 'SARS-CoV-2 lineage B.1.617'; 'variant of SARS-CoV-2'\n",
      "\n"
     ]
    }
   ],
   "source": [
    "test(\"COVID-19 variants\")"
   ]
  },
  {
   "cell_type": "markdown",
   "metadata": {},
   "source": [
    "### In this example, we use SpaCy to find named entities and their types and link them to Wikidata"
   ]
  },
  {
   "cell_type": "code",
   "execution_count": 42,
   "metadata": {},
   "outputs": [
    {
     "data": {
      "text/html": [
       "<span class=\"tex2jax_ignore\"><div class=\"entities\" style=\"line-height: 2.5; direction: ltr\">\n",
       "<mark class=\"entity\" style=\"background: #aa9cfc; padding: 0.45em 0.6em; margin: 0 0.25em; line-height: 1; border-radius: 0.35em;\">\n",
       "    Anthony Fauci\n",
       "    <span style=\"font-size: 0.8em; font-weight: bold; line-height: 1; border-radius: 0.35em; vertical-align: middle; margin-left: 0.5rem\">PERSON</span>\n",
       "</mark>\n",
       " is an \n",
       "<mark class=\"entity\" style=\"background: #c887fb; padding: 0.45em 0.6em; margin: 0 0.25em; line-height: 1; border-radius: 0.35em;\">\n",
       "    American\n",
       "    <span style=\"font-size: 0.8em; font-weight: bold; line-height: 1; border-radius: 0.35em; vertical-align: middle; margin-left: 0.5rem\">NORP</span>\n",
       "</mark>\n",
       " doctor who got his medical degree from \n",
       "<mark class=\"entity\" style=\"background: #7aecec; padding: 0.45em 0.6em; margin: 0 0.25em; line-height: 1; border-radius: 0.35em;\">\n",
       "    Cornell University\n",
       "    <span style=\"font-size: 0.8em; font-weight: bold; line-height: 1; border-radius: 0.35em; vertical-align: middle; margin-left: 0.5rem\">ORG</span>\n",
       "</mark>\n",
       ". He is the director of the \n",
       "<mark class=\"entity\" style=\"background: #7aecec; padding: 0.45em 0.6em; margin: 0 0.25em; line-height: 1; border-radius: 0.35em;\">\n",
       "    NIAID\n",
       "    <span style=\"font-size: 0.8em; font-weight: bold; line-height: 1; border-radius: 0.35em; vertical-align: middle; margin-left: 0.5rem\">ORG</span>\n",
       "</mark>\n",
       " based in \n",
       "<mark class=\"entity\" style=\"background: #feca74; padding: 0.45em 0.6em; margin: 0 0.25em; line-height: 1; border-radius: 0.35em;\">\n",
       "    Bethesda\n",
       "    <span style=\"font-size: 0.8em; font-weight: bold; line-height: 1; border-radius: 0.35em; vertical-align: middle; margin-left: 0.5rem\">GPE</span>\n",
       "</mark>\n",
       ", \n",
       "<mark class=\"entity\" style=\"background: #feca74; padding: 0.45em 0.6em; margin: 0 0.25em; line-height: 1; border-radius: 0.35em;\">\n",
       "    Maryland\n",
       "    <span style=\"font-size: 0.8em; font-weight: bold; line-height: 1; border-radius: 0.35em; vertical-align: middle; margin-left: 0.5rem\">GPE</span>\n",
       "</mark>\n",
       ". He has a \n",
       "<mark class=\"entity\" style=\"background: #bfe1d9; padding: 0.45em 0.6em; margin: 0 0.25em; line-height: 1; border-radius: 0.35em;\">\n",
       "    summer\n",
       "    <span style=\"font-size: 0.8em; font-weight: bold; line-height: 1; border-radius: 0.35em; vertical-align: middle; margin-left: 0.5rem\">DATE</span>\n",
       "</mark>\n",
       " home in \n",
       "<mark class=\"entity\" style=\"background: #ff9561; padding: 0.45em 0.6em; margin: 0 0.25em; line-height: 1; border-radius: 0.35em;\">\n",
       "    the Allegheny Mountains\n",
       "    <span style=\"font-size: 0.8em; font-weight: bold; line-height: 1; border-radius: 0.35em; vertical-align: middle; margin-left: 0.5rem\">LOC</span>\n",
       "</mark>\n",
       " that he purchsed in \n",
       "<mark class=\"entity\" style=\"background: #bfe1d9; padding: 0.45em 0.6em; margin: 0 0.25em; line-height: 1; border-radius: 0.35em;\">\n",
       "    1985\n",
       "    <span style=\"font-size: 0.8em; font-weight: bold; line-height: 1; border-radius: 0.35em; vertical-align: middle; margin-left: 0.5rem\">DATE</span>\n",
       "</mark>\n",
       " for $\n",
       "<mark class=\"entity\" style=\"background: #e4e7d2; padding: 0.45em 0.6em; margin: 0 0.25em; line-height: 1; border-radius: 0.35em;\">\n",
       "    65,000\n",
       "    <span style=\"font-size: 0.8em; font-weight: bold; line-height: 1; border-radius: 0.35em; vertical-align: middle; margin-left: 0.5rem\">MONEY</span>\n",
       "</mark>\n",
       ".</div></span>"
      ],
      "text/plain": [
       "<IPython.core.display.HTML object>"
      ]
     },
     "metadata": {},
     "output_type": "display_data"
    }
   ],
   "source": [
    "# doc is a complex data structure with all of the information SpaCy extracts from a text.\n",
    "doc = nlp(\"Anthony Fauci is an American doctor who got his medical degree from \\\n",
    "Cornell University. He is the director of the NIAID based in Bethesda, Maryland. \\\n",
    "He has a summer home in the Allegheny Mountains that he purchsed in 1985 for $65,000.\")\n",
    "\n",
    "# This displays the entities found and their types\n",
    "displacy.render(doc, style=\"ent\")"
   ]
  },
  {
   "cell_type": "code",
   "execution_count": 43,
   "metadata": {},
   "outputs": [],
   "source": [
    "def link_ent(ent_mention, ent_type, MAX=30):\n",
    "    \"\"\" Given an entity mention and its Ontonotes type, we link it to a Wikidata item. \"\"\"\n",
    "    link = wd.link(ent_mention, target_types=[ent_type])\n",
    "    if link:\n",
    "        q,_,l,d = wd.summary(link)\n",
    "        d = d[:MAX]+'...' if len(d)>MAX else d\n",
    "        print(f\"'{ent_mention}'/{ent_type} ==> {q}; '{l}'; {d}\\n\")\n",
    "    else:\n",
    "        print(f\"'{ent_mention}'/{ent_type} ==> No Link\\n\")"
   ]
  },
  {
   "cell_type": "code",
   "execution_count": 44,
   "metadata": {},
   "outputs": [
    {
     "name": "stdout",
     "output_type": "stream",
     "text": [
      "'Anthony Fauci'/PERSON ==> Q573246; 'Anthony Fauci'; American immunologist and head...\n",
      "\n",
      "'American'/NORP ==> Q49085; 'African Americans'; racial or ethnic group in the ...\n",
      "\n",
      "'Cornell University'/ORG ==> Q49115; 'Cornell University'; private university in Ithaca (...\n",
      "\n",
      "'NIAID'/ORG ==> Q3519875; 'National Institute of Allergy and Infectious Diseases'; US research institute for the ...\n",
      "\n",
      "'Bethesda'/GPE ==> Q1883524; 'Bethesda'; town and community in Gwynedd\n",
      "\n",
      "'Maryland'/GPE ==> Q1391; 'Maryland'; state of the United States of ...\n",
      "\n",
      "'summer'/DATE ==> Q1313; 'summer'; warmest of the four temperate ...\n",
      "\n",
      "'the Allegheny Mountains'/LOC ==> Q4731302; 'Allegheny Front'; Major escarpment in the Allegh...\n",
      "\n",
      "'1985'/DATE ==> Q2431; '1985'; year\n",
      "\n",
      "'65,000'/MONEY ==> No Link\n",
      "\n"
     ]
    }
   ],
   "source": [
    "# doc.ents is a list of entities in the doc produced by SpaCy. We can easily get each entity's \n",
    "# tesxt and type and use these to find a Wikidata link\n",
    "for ent in doc.ents:\n",
    "    link_ent(ent.text, ent.label_)"
   ]
  },
  {
   "cell_type": "code",
   "execution_count": null,
   "metadata": {},
   "outputs": [],
   "source": []
  }
 ],
 "metadata": {
  "kernelspec": {
   "display_name": "Python 3",
   "language": "python",
   "name": "python3"
  },
  "language_info": {
   "codemirror_mode": {
    "name": "ipython",
    "version": 3
   },
   "file_extension": ".py",
   "mimetype": "text/x-python",
   "name": "python",
   "nbconvert_exporter": "python",
   "pygments_lexer": "ipython3",
   "version": "3.8.1"
  }
 },
 "nbformat": 4,
 "nbformat_minor": 2
}
