{
 "cells": [
  {
   "cell_type": "markdown",
   "metadata": {},
   "source": [
    "# Testing Procure Wikidata entity linking"
   ]
  },
  {
   "cell_type": "code",
   "execution_count": 1,
   "metadata": {},
   "outputs": [
    {
     "name": "stdout",
     "output_type": "stream",
     "text": [
      "Loading config file wd_search_config.yml\n",
      "spacy_entity_linker\n"
     ]
    }
   ],
   "source": [
    "import wd_search as wd\n",
    "import evaluate_column as ec\n",
    "from importlib import reload # while developing"
   ]
  },
  {
   "cell_type": "code",
   "execution_count": 3,
   "metadata": {},
   "outputs": [],
   "source": [
    "# uncomment and reload if debugging\n",
    "# reload(wd)\n",
    "# reload(ec)"
   ]
  },
  {
   "cell_type": "markdown",
   "metadata": {},
   "source": [
    "### Load test data from a tab-seperated data file\n",
    " * columns starting with a # are special\n",
    " * finds link using no contect, header as context, and caption as context\n",
    " * shows accuracy of three methods at end\n",
    " * optional arguments are **outfile** and **show_progress** (defaults to False) that governs printing as we go"
   ]
  },
  {
   "cell_type": "code",
   "execution_count": 5,
   "metadata": {},
   "outputs": [
    {
     "name": "stdout",
     "output_type": "stream",
     "text": [
      "['header', 'Vaccine Candidates', 'Q87719492', 'Q28051899', 'Q28051899', 'Q28051899']\n",
      "['data', 'BBIBP-CorV', 'Q106322660', 'Q97154230', 'Q97154230', 'Q97154230']\n",
      "['data', 'BBIBP-CorV', 'Q97154230', 'Q97154230', 'Q97154230', 'Q97154230']\n",
      "['data', 'BBIBP-CorV', 'Q97154233', 'Q97154230', 'Q97154230', 'Q97154230']\n",
      "['data', 'Ad5-nCOV', 'Q96695265', 'Q100788760', 'Q100788760', 'Q100788760']\n",
      "['data', 'Sputnik V', 'Q98270627', 'Q98270627', 'Q98270627', 'Q98270627']\n",
      "['data', 'EpiVacCorona', 'Q98947046', 'Q98947046', 'Q98947046', 'Q98947086']\n",
      "['data', 'Ad26.COV2-S', 'Q98655215', 'Q105088772', 'Q105088757', 'Q105088772']\n",
      "['data', 'AZD 1222', 'Q95042269', 'Q106642380', 'Q104675764', 'Q104675764']\n",
      "['data', 'NVX-COV2373', 'Q97154235', 'Q97154235', 'Q97154235', 'Q97154235']\n",
      "['data', 'mRNA 1273', 'Q87775025', 'Q87775025', 'Q87775025', 'Q87775009']\n",
      "['data', 'BNT162', 'Q97154240', 'Q107501388', 'Q97154240', 'Q93704395']\n",
      "['acc', 'Vaccine Candidates', '1.0', '0.45', '0.55', '0.27']\n"
     ]
    },
    {
     "data": {
      "text/plain": [
       "'Done'"
      ]
     },
     "execution_count": 5,
     "metadata": {},
     "output_type": "execute_result"
    }
   ],
   "source": [
    "ec.evaluate_column('evaluation/PMC7785583_Table3_column1.txt', show_progress=True)\n",
    "#ec.evaluate_column('evaluation/PMC7733346_Table2_column1.csv.txt', show_progress=True)"
   ]
  },
  {
   "cell_type": "code",
   "execution_count": null,
   "metadata": {},
   "outputs": [],
   "source": [
    "\"fin\""
   ]
  }
 ],
 "metadata": {
  "kernelspec": {
   "display_name": "Python 3",
   "language": "python",
   "name": "python3"
  },
  "language_info": {
   "codemirror_mode": {
    "name": "ipython",
    "version": 3
   },
   "file_extension": ".py",
   "mimetype": "text/x-python",
   "name": "python",
   "nbconvert_exporter": "python",
   "pygments_lexer": "ipython3",
   "version": "3.8.1"
  }
 },
 "nbformat": 4,
 "nbformat_minor": 2
}
