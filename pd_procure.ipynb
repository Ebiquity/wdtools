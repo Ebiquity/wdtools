{
 "cells": [
  {
   "cell_type": "markdown",
   "metadata": {},
   "source": [
    "### Link all of the header and data cells in an annotated Procure file\n",
    " * Under development\n",
    " * compare results to annotations\n",
    " * produce scores: accuracy for header and for data cells"
   ]
  },
  {
   "cell_type": "code",
   "execution_count": 1,
   "metadata": {},
   "outputs": [
    {
     "name": "stdout",
     "output_type": "stream",
     "text": [
      "Loading config file procure_config.yml\n",
      "spacy_entity_linker\n"
     ]
    }
   ],
   "source": [
    "import pandas as pd\n",
    "import wd_search as wd\n",
    "import os.path"
   ]
  },
  {
   "cell_type": "code",
   "execution_count": 4,
   "metadata": {},
   "outputs": [],
   "source": [
    "file = \"/Users/finin/Projects/IARPA_GE/July_deliverable/Annotated_Table_Objects/Annotated_Tables_by_columns_w_annotations/4_3/PMC7350702_Table1.xlsx\"\n",
    "dir = \"/Users/finin/Projects/IARPA_GE/July_deliverable/Annotated_Table_Objects/Annotated_Tables_by_columns_w_annotations/\""
   ]
  },
  {
   "cell_type": "code",
   "execution_count": 5,
   "metadata": {},
   "outputs": [],
   "source": [
    "df = pd.read_excel(file)"
   ]
  },
  {
   "cell_type": "code",
   "execution_count": 6,
   "metadata": {},
   "outputs": [],
   "source": [
    "headers = df.columns.values"
   ]
  },
  {
   "cell_type": "code",
   "execution_count": 7,
   "metadata": {},
   "outputs": [
    {
     "name": "stdout",
     "output_type": "stream",
     "text": [
      "Virus\tQ855769\tP8339\tWRONG\n",
      "Location\tP7153\tP276\tWRONG\n",
      "Phase\tP6099\tP6099\tCORRECT\n",
      "Year\tP585\tP585\tCORRECT\n",
      "Identifier\tP3098\tP5270\tWRONG\n",
      "Vaccine type\tQ105967696\tP427\tWRONG\n"
     ]
    }
   ],
   "source": [
    "for i in range(0,len(headers),2):\n",
    "    text = headers[i]\n",
    "    annotation = headers[i+1].replace('procure_', '')\n",
    "    link = wd.link(text, namespace='P')\n",
    "    qid = link['qid'] if link else None\n",
    "    evaluation = 'CORRECT' if qid==annotation else 'WRONG'\n",
    "    print(f\"{text}\\t{annotation}\\t{qid}\\t{evaluation}\")"
   ]
  },
  {
   "cell_type": "code",
   "execution_count": 8,
   "metadata": {},
   "outputs": [
    {
     "data": {
      "text/plain": [
       "[{'search_string': 'year',\n",
       "  'types': ['P585:SELF', 'Q35120:entity'],\n",
       "  'description': 'time and date something took place, existed or a statement was true',\n",
       "  'label': 'point in time',\n",
       "  'id': 'P585',\n",
       "  'qid': 'P585',\n",
       "  'mention': 'year',\n",
       "  'search_rank': 1,\n",
       "  'score': 0.0,\n",
       "  'scores': [0.0],\n",
       "  'score_rank': 1,\n",
       "  'rank': 1.0},\n",
       " {'search_string': 'year',\n",
       "  'types': ['Q35120:entity'],\n",
       "  'description': 'month of the year during which this item occurs, applies to or is valid in',\n",
       "  'label': 'month of the year',\n",
       "  'id': 'P2922',\n",
       "  'qid': 'P2922',\n",
       "  'mention': 'year',\n",
       "  'search_rank': 2,\n",
       "  'score': 0.0,\n",
       "  'scores': [0.0],\n",
       "  'score_rank': 2,\n",
       "  'rank': 2.0},\n",
       " {'search_string': 'year',\n",
       "  'types': ['Q35120:entity'],\n",
       "  'description': 'year when this taxon was formally described (for animals); year when this taxon name was formally established (for plants)',\n",
       "  'label': 'year of taxon publication',\n",
       "  'id': 'P574',\n",
       "  'qid': 'P574',\n",
       "  'mention': 'year',\n",
       "  'search_rank': 3,\n",
       "  'score': 0.0,\n",
       "  'scores': [0.0],\n",
       "  'score_rank': 3,\n",
       "  'rank': 3.0},\n",
       " {'search_string': 'year',\n",
       "  'types': ['Q35120:entity'],\n",
       "  'description': 'identifier for an artist on the Album of the Year (AOTY) website',\n",
       "  'label': 'Album of the Year artist ID',\n",
       "  'id': 'P7050',\n",
       "  'qid': 'P7050',\n",
       "  'mention': 'year',\n",
       "  'search_rank': 4,\n",
       "  'score': 0.0,\n",
       "  'scores': [0.0],\n",
       "  'score_rank': 4,\n",
       "  'rank': 4.0}]"
      ]
     },
     "execution_count": 8,
     "metadata": {},
     "output_type": "execute_result"
    }
   ],
   "source": [
    "wd.string_search('year', namespace='P')"
   ]
  },
  {
   "cell_type": "code",
   "execution_count": 9,
   "metadata": {},
   "outputs": [
    {
     "data": {
      "text/plain": [
       "('instance of',\n",
       " [{'ns': 0,\n",
       "   'title': 'Q21503252',\n",
       "   'pageid': 23548070,\n",
       "   'snippet': 'relation of type constraints',\n",
       "   'titlesnippet': '<span class=\"searchmatch\">instance</span> <span class=\"searchmatch\">of</span>',\n",
       "   'search_string': 'instance of'},\n",
       "  {'ns': 0,\n",
       "   'title': 'Q30208840',\n",
       "   'pageid': 31821109,\n",
       "   'snippet': 'relation of type or value type constraint',\n",
       "   'titlesnippet': '<span class=\"searchmatch\">instance</span> or subclass <span class=\"searchmatch\">of</span>',\n",
       "   'search_string': 'instance of'},\n",
       "  {'ns': 0,\n",
       "   'title': 'Q4167836',\n",
       "   'pageid': 3975781,\n",
       "   'snippet': 'use with \\'<span class=\"searchmatch\">instance</span> <span class=\"searchmatch\">of</span>\\' (P31) for Wikimedia category',\n",
       "   'titlesnippet': 'Wikimedia category',\n",
       "   'search_string': 'instance of'},\n",
       "  {'ns': 120,\n",
       "   'title': 'P7125',\n",
       "   'pageid': 65679372,\n",
       "   'snippet': 'qualifier: when was the latest element of quantity appears/took place',\n",
       "   'titlesnippet': 'date <span class=\"searchmatch\">of</span> the latest one',\n",
       "   'search_string': 'instance of'},\n",
       "  {'ns': 0,\n",
       "   'title': 'Q23958946',\n",
       "   'pageid': 25953901,\n",
       "   'snippet': 'entity, be it a thing, a person or any other agent, which is identifiable by its determined characteristics, as contrasted to a class whose characteristics may be varying among its instances',\n",
       "   'titlesnippet': 'individual entity',\n",
       "   'search_string': 'instance of'},\n",
       "  {'ns': 0,\n",
       "   'title': 'Q2452550',\n",
       "   'pageid': 2368885,\n",
       "   'snippet': 'French high court',\n",
       "   'titlesnippet': 'tribunal de grande <span class=\"searchmatch\">instance</span>',\n",
       "   'search_string': 'instance of'},\n",
       "  {'ns': 120,\n",
       "   'title': 'P7124',\n",
       "   'pageid': 65679312,\n",
       "   'snippet': 'qualifier: when was the first element of quantity appears/took place',\n",
       "   'titlesnippet': 'date <span class=\"searchmatch\">of</span> the first one',\n",
       "   'search_string': 'instance of'},\n",
       "  {'ns': 0,\n",
       "   'title': 'Q4959031',\n",
       "   'pageid': 4739691,\n",
       "   'snippet': 'court of law empowered to hear an appeal of a trial court or other lower tribunal',\n",
       "   'titlesnippet': 'appellate court',\n",
       "   'search_string': 'instance of'},\n",
       "  {'ns': 0,\n",
       "   'title': 'Q147276',\n",
       "   'pageid': 148868,\n",
       "   'snippet': 'noun (or noun phrase) that in its primary application refers to a unique entity or <span class=\"searchmatch\">instance</span>',\n",
       "   'titlesnippet': 'proper noun',\n",
       "   'search_string': 'instance of'},\n",
       "  {'ns': 120,\n",
       "   'title': 'P31',\n",
       "   'pageid': 3918489,\n",
       "   'snippet': 'that class of which this subject is a particular example and member',\n",
       "   'titlesnippet': '<span class=\"searchmatch\">instance</span> <span class=\"searchmatch\">of</span>',\n",
       "   'search_string': 'instance of'},\n",
       "  {'ns': 120,\n",
       "   'title': 'P2738',\n",
       "   'pageid': 25767520,\n",
       "   'snippet': 'every instance of this class is an instance of exactly one class in that list of classes',\n",
       "   'titlesnippet': 'disjoint union <span class=\"searchmatch\">of</span>',\n",
       "   'search_string': 'instance of'},\n",
       "  {'ns': 0,\n",
       "   'title': 'Q1664689',\n",
       "   'pageid': 1598292,\n",
       "   'snippet': 'concrete manifestation of an object (class) in software development',\n",
       "   'titlesnippet': '<span class=\"searchmatch\">instance</span>',\n",
       "   'search_string': 'instance of'},\n",
       "  {'ns': 0,\n",
       "   'title': 'Q741421',\n",
       "   'pageid': 697426,\n",
       "   'snippet': 'highest juridical instance in Sweden',\n",
       "   'titlesnippet': 'Supreme Court <span class=\"searchmatch\">of</span> Sweden',\n",
       "   'search_string': 'instance of'},\n",
       "  {'ns': 120,\n",
       "   'title': 'P2737',\n",
       "   'pageid': 25767519,\n",
       "   'snippet': 'every instance of this class is an instance of at least one class in that list of classes',\n",
       "   'titlesnippet': 'union <span class=\"searchmatch\">of</span>',\n",
       "   'search_string': 'instance of'},\n",
       "  {'ns': 0,\n",
       "   'title': 'Q349047',\n",
       "   'pageid': 333650,\n",
       "   'snippet': 'form created in the mind, <span class=\"searchmatch\">instance</span> <span class=\"searchmatch\">of</span> thinking',\n",
       "   'titlesnippet': 'thought',\n",
       "   'search_string': 'instance of'},\n",
       "  {'ns': 0,\n",
       "   'title': 'Q3055454',\n",
       "   'pageid': 2920603,\n",
       "   'snippet': 'computer system in which a computer program or software component is deployed and executed',\n",
       "   'titlesnippet': 'deployment environment',\n",
       "   'search_string': 'instance of'},\n",
       "  {'ns': 0,\n",
       "   'title': 'Q1664684',\n",
       "   'pageid': 1598287,\n",
       "   'snippet': 'a region in an MMO video game personal to you or a group of specific people',\n",
       "   'titlesnippet': '<span class=\"searchmatch\">Instance</span> dungeon',\n",
       "   'search_string': 'instance of'},\n",
       "  {'ns': 0,\n",
       "   'title': 'Q1156791',\n",
       "   'pageid': 1103081,\n",
       "   'snippet': 'the duplication <span class=\"searchmatch\">of</span> information or an artifact based only on an <span class=\"searchmatch\">instance</span>',\n",
       "   'titlesnippet': 'copying',\n",
       "   'search_string': 'instance of'},\n",
       "  {'ns': 120,\n",
       "   'title': 'P6430',\n",
       "   'pageid': 61208540,\n",
       "   'snippet': 'identifier for an individual edition of a published hymn in the Hymnary.org database',\n",
       "   'titlesnippet': 'Hymnary <span class=\"searchmatch\">instance</span> ID',\n",
       "   'search_string': 'instance of'},\n",
       "  {'ns': 0,\n",
       "   'title': 'Q27631499',\n",
       "   'pageid': 29351938,\n",
       "   'snippet': '',\n",
       "   'titlesnippet': 'Commission et <span class=\"searchmatch\">instance</span> ministérielle consultative ou délibérative',\n",
       "   'search_string': 'instance of'}])"
      ]
     },
     "execution_count": 9,
     "metadata": {},
     "output_type": "execute_result"
    }
   ],
   "source": [
    "wd.get_candidates('instance of', 'label_aliases_description', 20, 'en', '*')"
   ]
  },
  {
   "cell_type": "code",
   "execution_count": 10,
   "metadata": {},
   "outputs": [
    {
     "data": {
      "text/plain": [
       "['disease',\n",
       " 'infectious disease',\n",
       " 'protein',\n",
       " 'chemical compound',\n",
       " 'taxon',\n",
       " 'biotechnology',\n",
       " 'gene',\n",
       " 'medical procedure',\n",
       " 'strain',\n",
       " 'disease causative agent',\n",
       " 'immunization safety',\n",
       " 'clinical trial',\n",
       " 'vaccine type',\n",
       " 'type of statistic',\n",
       " 'clinical trial phase',\n",
       " 'significant place',\n",
       " 'ClinicalTrials.gov ID',\n",
       " 'point in time',\n",
       " 'Wikidata property related to medicine']"
      ]
     },
     "execution_count": 10,
     "metadata": {},
     "output_type": "execute_result"
    }
   ],
   "source": [
    "wd.GOOD_TYPES"
   ]
  },
  {
   "cell_type": "code",
   "execution_count": 11,
   "metadata": {},
   "outputs": [
    {
     "data": {
      "text/plain": [
       "['ENTITY', 'EVENT', 'FAC', 'GPE', 'LOC', 'NORP', 'ORG', 'PERSON', 'PRODUCT']"
      ]
     },
     "execution_count": 11,
     "metadata": {},
     "output_type": "execute_result"
    }
   ],
   "source": [
    "wd.OK_TYPES"
   ]
  },
  {
   "cell_type": "code",
   "execution_count": 12,
   "metadata": {},
   "outputs": [
    {
     "data": {
      "text/plain": [
       "[{'search_string': 'year',\n",
       "  'types': ['P585:SELF', 'Q35120:entity'],\n",
       "  'description': 'time and date something took place, existed or a statement was true',\n",
       "  'label': 'point in time',\n",
       "  'id': 'P585',\n",
       "  'qid': 'P585',\n",
       "  'mention': 'year',\n",
       "  'search_rank': 1,\n",
       "  'score': 0.0,\n",
       "  'scores': [0.0],\n",
       "  'score_rank': 1,\n",
       "  'rank': 1.0},\n",
       " {'search_string': 'year',\n",
       "  'types': ['Q35120:entity'],\n",
       "  'description': 'month of the year during which this item occurs, applies to or is valid in',\n",
       "  'label': 'month of the year',\n",
       "  'id': 'P2922',\n",
       "  'qid': 'P2922',\n",
       "  'mention': 'year',\n",
       "  'search_rank': 2,\n",
       "  'score': 0.0,\n",
       "  'scores': [0.0],\n",
       "  'score_rank': 2,\n",
       "  'rank': 2.0},\n",
       " {'search_string': 'year',\n",
       "  'types': ['Q35120:entity'],\n",
       "  'description': 'identifier for an artist on the Album of the Year (AOTY) website',\n",
       "  'label': 'Album of the Year artist ID',\n",
       "  'id': 'P7050',\n",
       "  'qid': 'P7050',\n",
       "  'mention': 'year',\n",
       "  'search_rank': 3,\n",
       "  'score': 0.0,\n",
       "  'scores': [0.0],\n",
       "  'score_rank': 3,\n",
       "  'rank': 3.0},\n",
       " {'search_string': 'year',\n",
       "  'types': ['Q35120:entity'],\n",
       "  'description': 'year when this taxon was formally described (for animals); year when this taxon name was formally established (for plants)',\n",
       "  'label': 'year of taxon publication',\n",
       "  'id': 'P574',\n",
       "  'qid': 'P574',\n",
       "  'mention': 'year',\n",
       "  'search_rank': 4,\n",
       "  'score': 0.0,\n",
       "  'scores': [0.0],\n",
       "  'score_rank': 4,\n",
       "  'rank': 4.0}]"
      ]
     },
     "execution_count": 12,
     "metadata": {},
     "output_type": "execute_result"
    }
   ],
   "source": [
    "wd.string_search('year', namespace='P')"
   ]
  },
  {
   "cell_type": "code",
   "execution_count": null,
   "metadata": {},
   "outputs": [],
   "source": []
  }
 ],
 "metadata": {
  "kernelspec": {
   "display_name": "Python 3",
   "language": "python",
   "name": "python3"
  },
  "language_info": {
   "codemirror_mode": {
    "name": "ipython",
    "version": 3
   },
   "file_extension": ".py",
   "mimetype": "text/x-python",
   "name": "python",
   "nbconvert_exporter": "python",
   "pygments_lexer": "ipython3",
   "version": "3.8.1"
  }
 },
 "nbformat": 4,
 "nbformat_minor": 2
}
